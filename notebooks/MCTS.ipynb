{
 "cells": [
  {
   "cell_type": "markdown",
   "id": "bf50c67c",
   "metadata": {},
   "source": [
    "# Monte Carlo Tree Search"
   ]
  },
  {
   "cell_type": "code",
   "execution_count": 1,
   "id": "607aee7c",
   "metadata": {},
   "outputs": [],
   "source": [
    "import os\n",
    "import sys\n",
    "module_path = os.path.abspath(os.path.join('..'))\n",
    "if module_path not in sys.path:\n",
    "    sys.path.append(module_path)\n",
    "\n",
    "import numpy as np\n",
    "import matplotlib.pyplot as plt\n",
    "\n",
    "from game import TicTacToe, ConnectFour\n",
    "from game.manager import GameManager\n",
    "from agent.player import IOPlayer, RandomPlayer, BFSPlayer\n",
    "from agent.player.mcts import MCTS"
   ]
  },
  {
   "cell_type": "code",
   "execution_count": 2,
   "id": "bb1a9049",
   "metadata": {},
   "outputs": [
    {
     "name": "stdout",
     "output_type": "stream",
     "text": [
      "It`s a draw.\n",
      "Final state:\n",
      "o|x|x\n",
      "x|x|o\n",
      "o|o|x\n"
     ]
    }
   ],
   "source": [
    "tic_tac_toe = TicTacToe()\n",
    "start_state = tic_tac_toe.start()\n",
    "\n",
    "io_player = IOPlayer(from_str='list[int]')\n",
    "\n",
    "manager = GameManager(tic_tac_toe, MCTS(start_state), io_player)\n",
    "manager.run_single_game()"
   ]
  },
  {
   "cell_type": "code",
   "execution_count": 3,
   "id": "c8857349",
   "metadata": {},
   "outputs": [
    {
     "name": "stdout",
     "output_type": "stream",
     "text": [
      "You win!\n",
      "Final state:\n",
      " 0 1 2 3 4 5 6 \n",
      " v v v v v v v \n",
      "|o| |x|o|o| |o|\n",
      "|x| |o|x|o| |x|\n",
      "|x| |o|x|x| |x|\n",
      "|o|o|o|o|o| |o|\n",
      "|x|x|x|o|x| |x|\n",
      "|x|o|x|x|o|o|x|\n",
      "\n"
     ]
    },
    {
     "data": {
      "text/plain": [
       "np.int64(2)"
      ]
     },
     "execution_count": 3,
     "metadata": {},
     "output_type": "execute_result"
    }
   ],
   "source": [
    "from game import ConnectFour\n",
    "\n",
    "connect_four = ConnectFour()\n",
    "start_state = connect_four.start()\n",
    "\n",
    "manager = GameManager(connect_four, MCTS(start_state), IOPlayer('int'))\n",
    "manager.run_single_game()"
   ]
  },
  {
   "cell_type": "code",
   "execution_count": 7,
   "id": "1dc23007",
   "metadata": {},
   "outputs": [
    {
     "data": {
      "application/vnd.jupyter.widget-view+json": {
       "model_id": "3d83267af54a4d98a1b266bcea36b577",
       "version_major": 2,
       "version_minor": 0
      },
      "text/plain": [
       "  0%|          | 0/100 [00:00<?, ?it/s]"
      ]
     },
     "metadata": {},
     "output_type": "display_data"
    },
    {
     "data": {
      "text/html": [
       "<div>\n",
       "<style scoped>\n",
       "    .dataframe tbody tr th:only-of-type {\n",
       "        vertical-align: middle;\n",
       "    }\n",
       "\n",
       "    .dataframe tbody tr th {\n",
       "        vertical-align: top;\n",
       "    }\n",
       "\n",
       "    .dataframe thead th {\n",
       "        text-align: right;\n",
       "    }\n",
       "</style>\n",
       "<table border=\"1\" class=\"dataframe\">\n",
       "  <thead>\n",
       "    <tr style=\"text-align: right;\">\n",
       "      <th></th>\n",
       "      <th>Draw</th>\n",
       "      <th>MCTS(time for action : 0.100 s)</th>\n",
       "      <th>RandomPlayer</th>\n",
       "    </tr>\n",
       "  </thead>\n",
       "  <tbody>\n",
       "    <tr>\n",
       "      <th>Draw</th>\n",
       "      <td>0</td>\n",
       "      <td>0</td>\n",
       "      <td>0</td>\n",
       "    </tr>\n",
       "    <tr>\n",
       "      <th>X`s player</th>\n",
       "      <td>0</td>\n",
       "      <td>50</td>\n",
       "      <td>0</td>\n",
       "    </tr>\n",
       "    <tr>\n",
       "      <th>O`s player</th>\n",
       "      <td>0</td>\n",
       "      <td>50</td>\n",
       "      <td>0</td>\n",
       "    </tr>\n",
       "  </tbody>\n",
       "</table>\n",
       "</div>"
      ],
      "text/plain": [
       "            Draw  MCTS(time for action : 0.100 s)  RandomPlayer\n",
       "Draw           0                                0             0\n",
       "X`s player     0                               50             0\n",
       "O`s player     0                               50             0"
      ]
     },
     "execution_count": 7,
     "metadata": {},
     "output_type": "execute_result"
    }
   ],
   "source": [
    "manager = GameManager(\n",
    "    ConnectFour(),\n",
    "    MCTS(ConnectFour().start(), time_for_action=0.1),\n",
    "    RandomPlayer(),\n",
    "    n_plays=100,\n",
    "    shuffling='circular'\n",
    ")\n",
    "results = manager.run(verbose=True)\n",
    "results[\"winners matrix\"]"
   ]
  },
  {
   "cell_type": "code",
   "execution_count": 8,
   "id": "f2731e89",
   "metadata": {},
   "outputs": [
    {
     "data": {
      "application/vnd.jupyter.widget-view+json": {
       "model_id": "a290a24bfa5242db9e89b267037f0391",
       "version_major": 2,
       "version_minor": 0
      },
      "text/plain": [
       "  0%|          | 0/100 [00:00<?, ?it/s]"
      ]
     },
     "metadata": {},
     "output_type": "display_data"
    },
    {
     "data": {
      "text/html": [
       "<div>\n",
       "<style scoped>\n",
       "    .dataframe tbody tr th:only-of-type {\n",
       "        vertical-align: middle;\n",
       "    }\n",
       "\n",
       "    .dataframe tbody tr th {\n",
       "        vertical-align: top;\n",
       "    }\n",
       "\n",
       "    .dataframe thead th {\n",
       "        text-align: right;\n",
       "    }\n",
       "</style>\n",
       "<table border=\"1\" class=\"dataframe\">\n",
       "  <thead>\n",
       "    <tr style=\"text-align: right;\">\n",
       "      <th></th>\n",
       "      <th>Draw</th>\n",
       "      <th>MCTS(time for action : 0.100 s)</th>\n",
       "      <th>BFS-1 Player</th>\n",
       "    </tr>\n",
       "  </thead>\n",
       "  <tbody>\n",
       "    <tr>\n",
       "      <th>Draw</th>\n",
       "      <td>0</td>\n",
       "      <td>0</td>\n",
       "      <td>0</td>\n",
       "    </tr>\n",
       "    <tr>\n",
       "      <th>X`s player</th>\n",
       "      <td>0</td>\n",
       "      <td>50</td>\n",
       "      <td>2</td>\n",
       "    </tr>\n",
       "    <tr>\n",
       "      <th>O`s player</th>\n",
       "      <td>0</td>\n",
       "      <td>48</td>\n",
       "      <td>0</td>\n",
       "    </tr>\n",
       "  </tbody>\n",
       "</table>\n",
       "</div>"
      ],
      "text/plain": [
       "            Draw  MCTS(time for action : 0.100 s)  BFS-1 Player\n",
       "Draw           0                                0             0\n",
       "X`s player     0                               50             2\n",
       "O`s player     0                               48             0"
      ]
     },
     "execution_count": 8,
     "metadata": {},
     "output_type": "execute_result"
    }
   ],
   "source": [
    "manager = GameManager(\n",
    "    ConnectFour(),\n",
    "    MCTS(ConnectFour().start(), time_for_action=0.1),\n",
    "    BFSPlayer(1),\n",
    "    n_plays=100,\n",
    "    shuffling='circular'\n",
    ")\n",
    "results = manager.run(verbose=True)\n",
    "results[\"winners matrix\"]"
   ]
  },
  {
   "cell_type": "code",
   "execution_count": 9,
   "id": "d34ea1e6",
   "metadata": {},
   "outputs": [
    {
     "data": {
      "application/vnd.jupyter.widget-view+json": {
       "model_id": "88d2dd0cd9e348e29517c50e7c53a4d3",
       "version_major": 2,
       "version_minor": 0
      },
      "text/plain": [
       "  0%|          | 0/100 [00:00<?, ?it/s]"
      ]
     },
     "metadata": {},
     "output_type": "display_data"
    },
    {
     "data": {
      "text/html": [
       "<div>\n",
       "<style scoped>\n",
       "    .dataframe tbody tr th:only-of-type {\n",
       "        vertical-align: middle;\n",
       "    }\n",
       "\n",
       "    .dataframe tbody tr th {\n",
       "        vertical-align: top;\n",
       "    }\n",
       "\n",
       "    .dataframe thead th {\n",
       "        text-align: right;\n",
       "    }\n",
       "</style>\n",
       "<table border=\"1\" class=\"dataframe\">\n",
       "  <thead>\n",
       "    <tr style=\"text-align: right;\">\n",
       "      <th></th>\n",
       "      <th>Draw</th>\n",
       "      <th>MCTS(time for action : 0.100 s)</th>\n",
       "      <th>BFS-2 Player</th>\n",
       "    </tr>\n",
       "  </thead>\n",
       "  <tbody>\n",
       "    <tr>\n",
       "      <th>Draw</th>\n",
       "      <td>2</td>\n",
       "      <td>0</td>\n",
       "      <td>0</td>\n",
       "    </tr>\n",
       "    <tr>\n",
       "      <th>X`s player</th>\n",
       "      <td>0</td>\n",
       "      <td>47</td>\n",
       "      <td>3</td>\n",
       "    </tr>\n",
       "    <tr>\n",
       "      <th>O`s player</th>\n",
       "      <td>0</td>\n",
       "      <td>46</td>\n",
       "      <td>2</td>\n",
       "    </tr>\n",
       "  </tbody>\n",
       "</table>\n",
       "</div>"
      ],
      "text/plain": [
       "            Draw  MCTS(time for action : 0.100 s)  BFS-2 Player\n",
       "Draw           2                                0             0\n",
       "X`s player     0                               47             3\n",
       "O`s player     0                               46             2"
      ]
     },
     "execution_count": 9,
     "metadata": {},
     "output_type": "execute_result"
    }
   ],
   "source": [
    "manager = GameManager(\n",
    "    ConnectFour(),\n",
    "    MCTS(ConnectFour().start(), time_for_action=0.1),\n",
    "    BFSPlayer(2),\n",
    "    n_plays=100,\n",
    "    shuffling='circular'\n",
    ")\n",
    "results = manager.run(verbose=True)\n",
    "results[\"winners matrix\"]"
   ]
  },
  {
   "cell_type": "code",
   "execution_count": 10,
   "id": "3a7845e5",
   "metadata": {},
   "outputs": [
    {
     "data": {
      "application/vnd.jupyter.widget-view+json": {
       "model_id": "443ba69bfb60469abdb0c5884b54bd1e",
       "version_major": 2,
       "version_minor": 0
      },
      "text/plain": [
       "  0%|          | 0/20 [00:00<?, ?it/s]"
      ]
     },
     "metadata": {},
     "output_type": "display_data"
    },
    {
     "data": {
      "text/html": [
       "<div>\n",
       "<style scoped>\n",
       "    .dataframe tbody tr th:only-of-type {\n",
       "        vertical-align: middle;\n",
       "    }\n",
       "\n",
       "    .dataframe tbody tr th {\n",
       "        vertical-align: top;\n",
       "    }\n",
       "\n",
       "    .dataframe thead th {\n",
       "        text-align: right;\n",
       "    }\n",
       "</style>\n",
       "<table border=\"1\" class=\"dataframe\">\n",
       "  <thead>\n",
       "    <tr style=\"text-align: right;\">\n",
       "      <th></th>\n",
       "      <th>Draw</th>\n",
       "      <th>MCTS(time for action : 0.200 s)</th>\n",
       "      <th>BFS-3 Player</th>\n",
       "    </tr>\n",
       "  </thead>\n",
       "  <tbody>\n",
       "    <tr>\n",
       "      <th>Draw</th>\n",
       "      <td>1</td>\n",
       "      <td>0</td>\n",
       "      <td>0</td>\n",
       "    </tr>\n",
       "    <tr>\n",
       "      <th>X`s player</th>\n",
       "      <td>0</td>\n",
       "      <td>9</td>\n",
       "      <td>1</td>\n",
       "    </tr>\n",
       "    <tr>\n",
       "      <th>O`s player</th>\n",
       "      <td>0</td>\n",
       "      <td>9</td>\n",
       "      <td>0</td>\n",
       "    </tr>\n",
       "  </tbody>\n",
       "</table>\n",
       "</div>"
      ],
      "text/plain": [
       "            Draw  MCTS(time for action : 0.200 s)  BFS-3 Player\n",
       "Draw           1                                0             0\n",
       "X`s player     0                                9             1\n",
       "O`s player     0                                9             0"
      ]
     },
     "execution_count": 10,
     "metadata": {},
     "output_type": "execute_result"
    }
   ],
   "source": [
    "manager = GameManager(\n",
    "    ConnectFour(),\n",
    "    MCTS(ConnectFour().start(), time_for_action=0.2),\n",
    "    BFSPlayer(3),\n",
    "    n_plays=20,\n",
    "    shuffling='circular'\n",
    ")\n",
    "results = manager.run(verbose=True)\n",
    "results[\"winners matrix\"]"
   ]
  },
  {
   "cell_type": "code",
   "execution_count": 11,
   "id": "b46e114b",
   "metadata": {},
   "outputs": [
    {
     "name": "stdout",
     "output_type": "stream",
     "text": [
      "Found 10 states.\n",
      "Found 100 states.\n",
      "Found 1000 states.\n",
      "Found 5478 states in total.\n"
     ]
    }
   ],
   "source": [
    "from agent.player import DFSPlayer\n",
    "\n",
    "ts = DFSPlayer(verbose=True)\n",
    "\n",
    "tic_tac_toe = TicTacToe()\n",
    "ts.fit(tic_tac_toe)"
   ]
  },
  {
   "cell_type": "code",
   "execution_count": 12,
   "id": "c1447ece",
   "metadata": {},
   "outputs": [
    {
     "data": {
      "application/vnd.jupyter.widget-view+json": {
       "model_id": "5ba5b30dabdc4924a17d40b9628e1170",
       "version_major": 2,
       "version_minor": 0
      },
      "text/plain": [
       "  0%|          | 0/10 [00:00<?, ?it/s]"
      ]
     },
     "metadata": {},
     "output_type": "display_data"
    },
    {
     "data": {
      "text/html": [
       "<div>\n",
       "<style scoped>\n",
       "    .dataframe tbody tr th:only-of-type {\n",
       "        vertical-align: middle;\n",
       "    }\n",
       "\n",
       "    .dataframe tbody tr th {\n",
       "        vertical-align: top;\n",
       "    }\n",
       "\n",
       "    .dataframe thead th {\n",
       "        text-align: right;\n",
       "    }\n",
       "</style>\n",
       "<table border=\"1\" class=\"dataframe\">\n",
       "  <thead>\n",
       "    <tr style=\"text-align: right;\">\n",
       "      <th></th>\n",
       "      <th>Draw</th>\n",
       "      <th>DFSPlayer</th>\n",
       "      <th>MCTS(time for action : 1.000 s)</th>\n",
       "    </tr>\n",
       "  </thead>\n",
       "  <tbody>\n",
       "    <tr>\n",
       "      <th>Draw</th>\n",
       "      <td>10</td>\n",
       "      <td>0</td>\n",
       "      <td>0</td>\n",
       "    </tr>\n",
       "    <tr>\n",
       "      <th>X`s player</th>\n",
       "      <td>0</td>\n",
       "      <td>0</td>\n",
       "      <td>0</td>\n",
       "    </tr>\n",
       "    <tr>\n",
       "      <th>O`s player</th>\n",
       "      <td>0</td>\n",
       "      <td>0</td>\n",
       "      <td>0</td>\n",
       "    </tr>\n",
       "  </tbody>\n",
       "</table>\n",
       "</div>"
      ],
      "text/plain": [
       "            Draw  DFSPlayer  MCTS(time for action : 1.000 s)\n",
       "Draw          10          0                                0\n",
       "X`s player     0          0                                0\n",
       "O`s player     0          0                                0"
      ]
     },
     "execution_count": 12,
     "metadata": {},
     "output_type": "execute_result"
    }
   ],
   "source": [
    "manager = GameManager(TicTacToe(), ts, MCTS(TicTacToe().start()), n_plays=10, shuffling='circular')\n",
    "results = manager.run(verbose=True)\n",
    "results[\"winners matrix\"]"
   ]
  },
  {
   "cell_type": "code",
   "execution_count": 13,
   "id": "1396aaef",
   "metadata": {},
   "outputs": [
    {
     "data": {
      "application/vnd.jupyter.widget-view+json": {
       "model_id": "0250a4ca3f2649d48b4dbe28ebca3a01",
       "version_major": 2,
       "version_minor": 0
      },
      "text/plain": [
       "  0%|          | 0/10 [00:00<?, ?it/s]"
      ]
     },
     "metadata": {},
     "output_type": "display_data"
    },
    {
     "data": {
      "text/html": [
       "<div>\n",
       "<style scoped>\n",
       "    .dataframe tbody tr th:only-of-type {\n",
       "        vertical-align: middle;\n",
       "    }\n",
       "\n",
       "    .dataframe tbody tr th {\n",
       "        vertical-align: top;\n",
       "    }\n",
       "\n",
       "    .dataframe thead th {\n",
       "        text-align: right;\n",
       "    }\n",
       "</style>\n",
       "<table border=\"1\" class=\"dataframe\">\n",
       "  <thead>\n",
       "    <tr style=\"text-align: right;\">\n",
       "      <th></th>\n",
       "      <th>Draw</th>\n",
       "      <th>MCTS(time for action : 1.000 s)</th>\n",
       "      <th>MCTS(time for action : 1.000 s)</th>\n",
       "    </tr>\n",
       "  </thead>\n",
       "  <tbody>\n",
       "    <tr>\n",
       "      <th>Draw</th>\n",
       "      <td>1</td>\n",
       "      <td>0</td>\n",
       "      <td>0</td>\n",
       "    </tr>\n",
       "    <tr>\n",
       "      <th>X`s player</th>\n",
       "      <td>0</td>\n",
       "      <td>3</td>\n",
       "      <td>0</td>\n",
       "    </tr>\n",
       "    <tr>\n",
       "      <th>O`s player</th>\n",
       "      <td>0</td>\n",
       "      <td>0</td>\n",
       "      <td>6</td>\n",
       "    </tr>\n",
       "  </tbody>\n",
       "</table>\n",
       "</div>"
      ],
      "text/plain": [
       "            Draw  MCTS(time for action : 1.000 s)  \\\n",
       "Draw           1                                0   \n",
       "X`s player     0                                3   \n",
       "O`s player     0                                0   \n",
       "\n",
       "            MCTS(time for action : 1.000 s)  \n",
       "Draw                                      0  \n",
       "X`s player                                0  \n",
       "O`s player                                6  "
      ]
     },
     "execution_count": 13,
     "metadata": {},
     "output_type": "execute_result"
    }
   ],
   "source": [
    "manager = GameManager(\n",
    "    ConnectFour(),\n",
    "    MCTS(ConnectFour().start()),\n",
    "    MCTS(ConnectFour().start()),\n",
    "    n_plays=10,\n",
    "    shuffling='no',\n",
    ")\n",
    "results = manager.run(verbose=True)\n",
    "results[\"winners matrix\"]"
   ]
  },
  {
   "cell_type": "code",
   "execution_count": 14,
   "id": "6c6a654e",
   "metadata": {},
   "outputs": [
    {
     "data": {
      "application/vnd.jupyter.widget-view+json": {
       "model_id": "e8ffe44f4b684d169a1fbd87df5e5992",
       "version_major": 2,
       "version_minor": 0
      },
      "text/plain": [
       "  0%|          | 0/10 [00:00<?, ?it/s]"
      ]
     },
     "metadata": {},
     "output_type": "display_data"
    },
    {
     "data": {
      "text/html": [
       "<div>\n",
       "<style scoped>\n",
       "    .dataframe tbody tr th:only-of-type {\n",
       "        vertical-align: middle;\n",
       "    }\n",
       "\n",
       "    .dataframe tbody tr th {\n",
       "        vertical-align: top;\n",
       "    }\n",
       "\n",
       "    .dataframe thead th {\n",
       "        text-align: right;\n",
       "    }\n",
       "</style>\n",
       "<table border=\"1\" class=\"dataframe\">\n",
       "  <thead>\n",
       "    <tr style=\"text-align: right;\">\n",
       "      <th></th>\n",
       "      <th>Draw</th>\n",
       "      <th>MCTS(time for action : 1.000 s)</th>\n",
       "      <th>MCTS(time for action : 0.100 s)</th>\n",
       "    </tr>\n",
       "  </thead>\n",
       "  <tbody>\n",
       "    <tr>\n",
       "      <th>Draw</th>\n",
       "      <td>1</td>\n",
       "      <td>0</td>\n",
       "      <td>0</td>\n",
       "    </tr>\n",
       "    <tr>\n",
       "      <th>X`s player</th>\n",
       "      <td>0</td>\n",
       "      <td>4</td>\n",
       "      <td>1</td>\n",
       "    </tr>\n",
       "    <tr>\n",
       "      <th>O`s player</th>\n",
       "      <td>0</td>\n",
       "      <td>4</td>\n",
       "      <td>0</td>\n",
       "    </tr>\n",
       "  </tbody>\n",
       "</table>\n",
       "</div>"
      ],
      "text/plain": [
       "            Draw  MCTS(time for action : 1.000 s)  \\\n",
       "Draw           1                                0   \n",
       "X`s player     0                                4   \n",
       "O`s player     0                                4   \n",
       "\n",
       "            MCTS(time for action : 0.100 s)  \n",
       "Draw                                      0  \n",
       "X`s player                                1  \n",
       "O`s player                                0  "
      ]
     },
     "execution_count": 14,
     "metadata": {},
     "output_type": "execute_result"
    }
   ],
   "source": [
    "manager = GameManager(\n",
    "    ConnectFour(),\n",
    "    MCTS(ConnectFour().start()),\n",
    "    MCTS(ConnectFour().start(), time_for_action=0.1),\n",
    "    n_plays=10,\n",
    "    shuffling='circular',\n",
    ")\n",
    "results = manager.run(verbose=True)\n",
    "results[\"winners matrix\"]"
   ]
  },
  {
   "cell_type": "code",
   "execution_count": 15,
   "id": "2bd9f631",
   "metadata": {},
   "outputs": [
    {
     "data": {
      "application/vnd.jupyter.widget-view+json": {
       "model_id": "99c69999b8d3419eb639054a08c781a8",
       "version_major": 2,
       "version_minor": 0
      },
      "text/plain": [
       "  0%|          | 0/10 [00:00<?, ?it/s]"
      ]
     },
     "metadata": {},
     "output_type": "display_data"
    },
    {
     "data": {
      "text/html": [
       "<div>\n",
       "<style scoped>\n",
       "    .dataframe tbody tr th:only-of-type {\n",
       "        vertical-align: middle;\n",
       "    }\n",
       "\n",
       "    .dataframe tbody tr th {\n",
       "        vertical-align: top;\n",
       "    }\n",
       "\n",
       "    .dataframe thead th {\n",
       "        text-align: right;\n",
       "    }\n",
       "</style>\n",
       "<table border=\"1\" class=\"dataframe\">\n",
       "  <thead>\n",
       "    <tr style=\"text-align: right;\">\n",
       "      <th></th>\n",
       "      <th>Draw</th>\n",
       "      <th>MCTS(time for action : 1.000 s)</th>\n",
       "      <th>MCTS(time for action : 1.000 s)</th>\n",
       "    </tr>\n",
       "  </thead>\n",
       "  <tbody>\n",
       "    <tr>\n",
       "      <th>Draw</th>\n",
       "      <td>0</td>\n",
       "      <td>0</td>\n",
       "      <td>0</td>\n",
       "    </tr>\n",
       "    <tr>\n",
       "      <th>X`s player</th>\n",
       "      <td>0</td>\n",
       "      <td>2</td>\n",
       "      <td>0</td>\n",
       "    </tr>\n",
       "    <tr>\n",
       "      <th>O`s player</th>\n",
       "      <td>0</td>\n",
       "      <td>5</td>\n",
       "      <td>3</td>\n",
       "    </tr>\n",
       "  </tbody>\n",
       "</table>\n",
       "</div>"
      ],
      "text/plain": [
       "            Draw  MCTS(time for action : 1.000 s)  \\\n",
       "Draw           0                                0   \n",
       "X`s player     0                                2   \n",
       "O`s player     0                                5   \n",
       "\n",
       "            MCTS(time for action : 1.000 s)  \n",
       "Draw                                      0  \n",
       "X`s player                                0  \n",
       "O`s player                                3  "
      ]
     },
     "execution_count": 15,
     "metadata": {},
     "output_type": "execute_result"
    }
   ],
   "source": [
    "manager = GameManager(\n",
    "    ConnectFour(),\n",
    "    MCTS(ConnectFour().start()),\n",
    "    MCTS(ConnectFour().start(), rollout_policy=BFSPlayer(1)),\n",
    "    n_plays=10,\n",
    "    shuffling='circular',\n",
    ")\n",
    "results = manager.run(verbose=True)\n",
    "results[\"winners matrix\"]"
   ]
  },
  {
   "cell_type": "code",
   "execution_count": 16,
   "id": "7906ece8",
   "metadata": {},
   "outputs": [
    {
     "data": {
      "application/vnd.jupyter.widget-view+json": {
       "model_id": "f075bed13b9e4cbea7f6c5ce8ea74cab",
       "version_major": 2,
       "version_minor": 0
      },
      "text/plain": [
       "  0%|          | 0/10 [00:00<?, ?it/s]"
      ]
     },
     "metadata": {},
     "output_type": "display_data"
    },
    {
     "data": {
      "text/html": [
       "<div>\n",
       "<style scoped>\n",
       "    .dataframe tbody tr th:only-of-type {\n",
       "        vertical-align: middle;\n",
       "    }\n",
       "\n",
       "    .dataframe tbody tr th {\n",
       "        vertical-align: top;\n",
       "    }\n",
       "\n",
       "    .dataframe thead th {\n",
       "        text-align: right;\n",
       "    }\n",
       "</style>\n",
       "<table border=\"1\" class=\"dataframe\">\n",
       "  <thead>\n",
       "    <tr style=\"text-align: right;\">\n",
       "      <th></th>\n",
       "      <th>Draw</th>\n",
       "      <th>MCTS(time for action : 1.000 s)</th>\n",
       "      <th>MCTS(time for action : 1.000 s)</th>\n",
       "    </tr>\n",
       "  </thead>\n",
       "  <tbody>\n",
       "    <tr>\n",
       "      <th>Draw</th>\n",
       "      <td>0</td>\n",
       "      <td>0</td>\n",
       "      <td>0</td>\n",
       "    </tr>\n",
       "    <tr>\n",
       "      <th>X`s player</th>\n",
       "      <td>0</td>\n",
       "      <td>2</td>\n",
       "      <td>2</td>\n",
       "    </tr>\n",
       "    <tr>\n",
       "      <th>O`s player</th>\n",
       "      <td>0</td>\n",
       "      <td>3</td>\n",
       "      <td>3</td>\n",
       "    </tr>\n",
       "  </tbody>\n",
       "</table>\n",
       "</div>"
      ],
      "text/plain": [
       "            Draw  MCTS(time for action : 1.000 s)  \\\n",
       "Draw           0                                0   \n",
       "X`s player     0                                2   \n",
       "O`s player     0                                3   \n",
       "\n",
       "            MCTS(time for action : 1.000 s)  \n",
       "Draw                                      0  \n",
       "X`s player                                2  \n",
       "O`s player                                3  "
      ]
     },
     "execution_count": 16,
     "metadata": {},
     "output_type": "execute_result"
    }
   ],
   "source": [
    "manager = GameManager(\n",
    "    ConnectFour(),\n",
    "    MCTS(ConnectFour().start()),\n",
    "    MCTS(ConnectFour().start(), rollout_policy=BFSPlayer(2)),\n",
    "    n_plays=10,\n",
    "    shuffling='circular',\n",
    ")\n",
    "results = manager.run(verbose=True)\n",
    "results[\"winners matrix\"]"
   ]
  },
  {
   "cell_type": "code",
   "execution_count": 14,
   "id": "3466fdfb",
   "metadata": {},
   "outputs": [
    {
     "name": "stdout",
     "output_type": "stream",
     "text": [
      "You win!\n",
      "Final state:\n",
      " 0 1 2 3 4 5 6 \n",
      " v v v v v v v \n",
      "|x|x| |x| |o|x|\n",
      "|o|x| |x|x|x|o|\n",
      "|x|o| |o|o|o|x|\n",
      "|o|x| |x|x|x|o|\n",
      "|x|x|x|x|o|o|o|\n",
      "|o|o|o|x|o|o|o|\n",
      "\n"
     ]
    },
    {
     "data": {
      "text/plain": [
       "1"
      ]
     },
     "execution_count": 14,
     "metadata": {},
     "output_type": "execute_result"
    }
   ],
   "source": [
    "connect_four = ConnectFour()\n",
    "start_state = connect_four.start()\n",
    "\n",
    "manager = GameManager(connect_four, IOPlayer('int'), MCTS(start_state))\n",
    "manager.run_single_game()"
   ]
  },
  {
   "cell_type": "code",
   "execution_count": 23,
   "id": "bfbf169f",
   "metadata": {},
   "outputs": [
    {
     "name": "stdout",
     "output_type": "stream",
     "text": [
      "You win!\n",
      "Final state:\n",
      " 0 1 2 3 4 5 6 \n",
      " v v v v v v v \n",
      "| | | |x| | | |\n",
      "|x| |o|x|o| | |\n",
      "|o|x|o|o|x| |o|\n",
      "|x|o|x|x|o| |x|\n",
      "|o|x|o|x|x| |o|\n",
      "|o|x|x|x|o|_|o|\n",
      "\n"
     ]
    },
    {
     "data": {
      "text/plain": [
       "1"
      ]
     },
     "execution_count": 23,
     "metadata": {},
     "output_type": "execute_result"
    }
   ],
   "source": [
    "connect_four = ConnectFour()\n",
    "start_state = connect_four.start()\n",
    "\n",
    "manager = GameManager(connect_four, IOPlayer('int'), MCTS(start_state, time_for_action=5.0))\n",
    "manager.run_single_game()"
   ]
  },
  {
   "cell_type": "code",
   "execution_count": null,
   "id": "de8d5033",
   "metadata": {},
   "outputs": [],
   "source": [
    "connect_four = ConnectFour()\n",
    "start_state = connect_four.start()\n",
    "\n",
    "manager = GameManager(connect_four, MCTS(start_state), IOPlayer('int'))\n",
    "manager.run_single_game()"
   ]
  },
  {
   "cell_type": "code",
   "execution_count": null,
   "id": "c3eb44df",
   "metadata": {},
   "outputs": [],
   "source": []
  }
 ],
 "metadata": {
  "kernelspec": {
   "display_name": "Python 3 (ipykernel)",
   "language": "python",
   "name": "python3"
  },
  "language_info": {
   "codemirror_mode": {
    "name": "ipython",
    "version": 3
   },
   "file_extension": ".py",
   "mimetype": "text/x-python",
   "name": "python",
   "nbconvert_exporter": "python",
   "pygments_lexer": "ipython3",
   "version": "3.12.8"
  }
 },
 "nbformat": 4,
 "nbformat_minor": 5
}
