{
 "cells": [
  {
   "cell_type": "markdown",
   "id": "bf50c67c",
   "metadata": {},
   "source": [
    "# Monte Carlo Tree Search"
   ]
  },
  {
   "cell_type": "code",
   "execution_count": 1,
   "id": "607aee7c",
   "metadata": {},
   "outputs": [],
   "source": [
    "import os\n",
    "import sys\n",
    "module_path = os.path.abspath(os.path.join('..'))\n",
    "if module_path not in sys.path:\n",
    "    sys.path.append(module_path)\n",
    "\n",
    "import numpy as np\n",
    "import matplotlib.pyplot as plt\n",
    "\n",
    "from game import TicTacToe, ConnectFour\n",
    "from game.manager import GameManager\n",
    "from agent.player import IOPlayer, RandomPlayer, BFSPlayer\n",
    "from agent.player.mcts import MCTS"
   ]
  },
  {
   "cell_type": "code",
   "execution_count": 2,
   "id": "bb1a9049",
   "metadata": {},
   "outputs": [
    {
     "name": "stdout",
     "output_type": "stream",
     "text": [
      "It`s a draw.\n",
      "Final state:\n",
      "o|x|x\n",
      "x|x|o\n",
      "o|o|x\n"
     ]
    }
   ],
   "source": [
    "tic_tac_toe = TicTacToe()\n",
    "start_state = tic_tac_toe.start()\n",
    "\n",
    "io_player = IOPlayer(from_str='list[int]')\n",
    "\n",
    "manager = GameManager(tic_tac_toe, MCTS(start_state), io_player)\n",
    "manager.run_single_game()"
   ]
  },
  {
   "cell_type": "code",
   "execution_count": 8,
   "id": "c8857349",
   "metadata": {},
   "outputs": [
    {
     "name": "stdout",
     "output_type": "stream",
     "text": [
      "You win!\n",
      "Final state:\n",
      " 0 1 2 3 4 5 6 \n",
      " v v v v v v v \n",
      "|x|o|o|o| | | |\n",
      "|x|x|o|o|o|o| |\n",
      "|o|x|o|x|x|x| |\n",
      "|x|x|x|o|o|o| |\n",
      "|x|o|o|o|x|x| |\n",
      "|x|o|x|x|o|x|_|\n",
      "\n"
     ]
    },
    {
     "data": {
      "text/plain": [
       "np.int64(2)"
      ]
     },
     "execution_count": 8,
     "metadata": {},
     "output_type": "execute_result"
    }
   ],
   "source": [
    "from game import ConnectFour\n",
    "\n",
    "connect_four = ConnectFour()\n",
    "start_state = connect_four.start()\n",
    "\n",
    "manager = GameManager(connect_four, MCTS(start_state), IOPlayer('int'))\n",
    "manager.run_single_game()"
   ]
  },
  {
   "cell_type": "code",
   "execution_count": 9,
   "id": "1dc23007",
   "metadata": {},
   "outputs": [
    {
     "data": {
      "application/vnd.jupyter.widget-view+json": {
       "model_id": "9ba2e2c60d1e4cb798ef9ca94915a894",
       "version_major": 2,
       "version_minor": 0
      },
      "text/plain": [
       "  0%|          | 0/10 [00:00<?, ?it/s]"
      ]
     },
     "metadata": {},
     "output_type": "display_data"
    },
    {
     "data": {
      "text/plain": [
       "array([[0., 0., 0.],\n",
       "       [0., 5., 0.],\n",
       "       [0., 5., 0.]])"
      ]
     },
     "execution_count": 9,
     "metadata": {},
     "output_type": "execute_result"
    }
   ],
   "source": [
    "manager = GameManager(ConnectFour(), MCTS(ConnectFour().start()), RandomPlayer(), n_plays=10, shuffling='circular')\n",
    "results = manager.run(verbose=True)\n",
    "results[\"winners matrix\"]"
   ]
  },
  {
   "cell_type": "code",
   "execution_count": 10,
   "id": "f2731e89",
   "metadata": {},
   "outputs": [
    {
     "data": {
      "application/vnd.jupyter.widget-view+json": {
       "model_id": "bce2efad4f2f4fa3a89c267ed4825d2e",
       "version_major": 2,
       "version_minor": 0
      },
      "text/plain": [
       "  0%|          | 0/10 [00:00<?, ?it/s]"
      ]
     },
     "metadata": {},
     "output_type": "display_data"
    },
    {
     "data": {
      "text/plain": [
       "array([[0., 0., 0.],\n",
       "       [0., 5., 0.],\n",
       "       [0., 5., 0.]])"
      ]
     },
     "execution_count": 10,
     "metadata": {},
     "output_type": "execute_result"
    }
   ],
   "source": [
    "manager = GameManager(ConnectFour(), MCTS(ConnectFour().start()), BFSPlayer(1), n_plays=10, shuffling='circular')\n",
    "results = manager.run(verbose=True)\n",
    "results[\"winners matrix\"]"
   ]
  },
  {
   "cell_type": "code",
   "execution_count": 11,
   "id": "d34ea1e6",
   "metadata": {},
   "outputs": [
    {
     "data": {
      "application/vnd.jupyter.widget-view+json": {
       "model_id": "d186ec0d48424349b22b7fe6ceced8cb",
       "version_major": 2,
       "version_minor": 0
      },
      "text/plain": [
       "  0%|          | 0/10 [00:00<?, ?it/s]"
      ]
     },
     "metadata": {},
     "output_type": "display_data"
    },
    {
     "data": {
      "text/plain": [
       "array([[0., 0., 0.],\n",
       "       [0., 5., 0.],\n",
       "       [0., 5., 0.]])"
      ]
     },
     "execution_count": 11,
     "metadata": {},
     "output_type": "execute_result"
    }
   ],
   "source": [
    "manager = GameManager(ConnectFour(), MCTS(ConnectFour().start()), BFSPlayer(2), n_plays=10, shuffling='circular')\n",
    "results = manager.run(verbose=True)\n",
    "results[\"winners matrix\"]"
   ]
  },
  {
   "cell_type": "code",
   "execution_count": 12,
   "id": "3a7845e5",
   "metadata": {},
   "outputs": [
    {
     "data": {
      "application/vnd.jupyter.widget-view+json": {
       "model_id": "b980820d08604fb798853d2d6ef80c2b",
       "version_major": 2,
       "version_minor": 0
      },
      "text/plain": [
       "  0%|          | 0/10 [00:00<?, ?it/s]"
      ]
     },
     "metadata": {},
     "output_type": "display_data"
    },
    {
     "data": {
      "text/plain": [
       "array([[0., 0., 0.],\n",
       "       [0., 5., 1.],\n",
       "       [0., 4., 0.]])"
      ]
     },
     "execution_count": 12,
     "metadata": {},
     "output_type": "execute_result"
    }
   ],
   "source": [
    "manager = GameManager(ConnectFour(), MCTS(ConnectFour().start()), BFSPlayer(3), n_plays=10, shuffling='circular')\n",
    "results = manager.run(verbose=True)\n",
    "results[\"winners matrix\"]"
   ]
  },
  {
   "cell_type": "code",
   "execution_count": 13,
   "id": "b46e114b",
   "metadata": {},
   "outputs": [
    {
     "name": "stdout",
     "output_type": "stream",
     "text": [
      "Found 10 states.\n",
      "Found 100 states.\n",
      "Found 1000 states.\n",
      "Found 5478 states in total.\n"
     ]
    }
   ],
   "source": [
    "from agent.player import DFSPlayer\n",
    "\n",
    "ts = DFSPlayer(verbose=True)\n",
    "\n",
    "tic_tac_toe = TicTacToe()\n",
    "ts.fit(tic_tac_toe)"
   ]
  },
  {
   "cell_type": "code",
   "execution_count": 14,
   "id": "c1447ece",
   "metadata": {},
   "outputs": [
    {
     "data": {
      "application/vnd.jupyter.widget-view+json": {
       "model_id": "5da248eaa1574bea9fe94143673a6b26",
       "version_major": 2,
       "version_minor": 0
      },
      "text/plain": [
       "  0%|          | 0/10 [00:00<?, ?it/s]"
      ]
     },
     "metadata": {},
     "output_type": "display_data"
    },
    {
     "data": {
      "text/plain": [
       "array([[10.,  0.,  0.],\n",
       "       [ 0.,  0.,  0.],\n",
       "       [ 0.,  0.,  0.]])"
      ]
     },
     "execution_count": 14,
     "metadata": {},
     "output_type": "execute_result"
    }
   ],
   "source": [
    "manager = GameManager(TicTacToe(), ts, MCTS(TicTacToe().start()), n_plays=10, shuffling='circular')\n",
    "results = manager.run(verbose=True)\n",
    "results[\"winners matrix\"]"
   ]
  },
  {
   "cell_type": "code",
   "execution_count": 15,
   "id": "1396aaef",
   "metadata": {},
   "outputs": [
    {
     "data": {
      "application/vnd.jupyter.widget-view+json": {
       "model_id": "b56851d30efd4d5a97414c1fa93feca1",
       "version_major": 2,
       "version_minor": 0
      },
      "text/plain": [
       "  0%|          | 0/10 [00:00<?, ?it/s]"
      ]
     },
     "metadata": {},
     "output_type": "display_data"
    },
    {
     "data": {
      "text/plain": [
       "array([[0., 0., 0.],\n",
       "       [0., 9., 0.],\n",
       "       [0., 0., 1.]])"
      ]
     },
     "execution_count": 15,
     "metadata": {},
     "output_type": "execute_result"
    }
   ],
   "source": [
    "manager = GameManager(\n",
    "    ConnectFour(),\n",
    "    MCTS(ConnectFour().start()),\n",
    "    MCTS(ConnectFour().start()),\n",
    "    n_plays=10,\n",
    "    shuffling='no',\n",
    ")\n",
    "results = manager.run(verbose=True)\n",
    "results[\"winners matrix\"]"
   ]
  },
  {
   "cell_type": "code",
   "execution_count": 16,
   "id": "6c6a654e",
   "metadata": {},
   "outputs": [
    {
     "data": {
      "application/vnd.jupyter.widget-view+json": {
       "model_id": "3cf32253d9db4d6d98bfe15cdc7d3693",
       "version_major": 2,
       "version_minor": 0
      },
      "text/plain": [
       "  0%|          | 0/10 [00:00<?, ?it/s]"
      ]
     },
     "metadata": {},
     "output_type": "display_data"
    },
    {
     "data": {
      "text/plain": [
       "array([[1., 0., 0.],\n",
       "       [0., 4., 0.],\n",
       "       [0., 5., 0.]])"
      ]
     },
     "execution_count": 16,
     "metadata": {},
     "output_type": "execute_result"
    }
   ],
   "source": [
    "manager = GameManager(\n",
    "    ConnectFour(),\n",
    "    MCTS(ConnectFour().start()),\n",
    "    MCTS(ConnectFour().start(), time_for_action=0.1),\n",
    "    n_plays=10,\n",
    "    shuffling='circular',\n",
    ")\n",
    "results = manager.run(verbose=True)\n",
    "results[\"winners matrix\"]"
   ]
  },
  {
   "cell_type": "code",
   "execution_count": 17,
   "id": "2bd9f631",
   "metadata": {},
   "outputs": [
    {
     "data": {
      "application/vnd.jupyter.widget-view+json": {
       "model_id": "fe388ceab0304fd6a8d0915d1d0ca167",
       "version_major": 2,
       "version_minor": 0
      },
      "text/plain": [
       "  0%|          | 0/10 [00:00<?, ?it/s]"
      ]
     },
     "metadata": {},
     "output_type": "display_data"
    },
    {
     "data": {
      "text/plain": [
       "array([[0., 0., 0.],\n",
       "       [0., 4., 1.],\n",
       "       [0., 4., 1.]])"
      ]
     },
     "execution_count": 17,
     "metadata": {},
     "output_type": "execute_result"
    }
   ],
   "source": [
    "manager = GameManager(\n",
    "    ConnectFour(),\n",
    "    MCTS(ConnectFour().start()),\n",
    "    MCTS(ConnectFour().start(), rollout_policy=BFSPlayer(1)),\n",
    "    n_plays=10,\n",
    "    shuffling='circular',\n",
    ")\n",
    "results = manager.run(verbose=True)\n",
    "results[\"winners matrix\"]"
   ]
  },
  {
   "cell_type": "code",
   "execution_count": 18,
   "id": "7906ece8",
   "metadata": {},
   "outputs": [
    {
     "data": {
      "application/vnd.jupyter.widget-view+json": {
       "model_id": "102ecbfa8b04420cb7ef8f91f7463ed6",
       "version_major": 2,
       "version_minor": 0
      },
      "text/plain": [
       "  0%|          | 0/10 [00:00<?, ?it/s]"
      ]
     },
     "metadata": {},
     "output_type": "display_data"
    },
    {
     "data": {
      "text/plain": [
       "array([[0., 0., 0.],\n",
       "       [0., 4., 0.],\n",
       "       [0., 5., 1.]])"
      ]
     },
     "execution_count": 18,
     "metadata": {},
     "output_type": "execute_result"
    }
   ],
   "source": [
    "manager = GameManager(\n",
    "    ConnectFour(),\n",
    "    MCTS(ConnectFour().start()),\n",
    "    MCTS(ConnectFour().start(), rollout_policy=BFSPlayer(2)),\n",
    "    n_plays=10,\n",
    "    shuffling='circular',\n",
    ")\n",
    "results = manager.run(verbose=True)\n",
    "results[\"winners matrix\"]"
   ]
  },
  {
   "cell_type": "code",
   "execution_count": 14,
   "id": "3466fdfb",
   "metadata": {},
   "outputs": [
    {
     "name": "stdout",
     "output_type": "stream",
     "text": [
      "You win!\n",
      "Final state:\n",
      " 0 1 2 3 4 5 6 \n",
      " v v v v v v v \n",
      "|x|x| |x| |o|x|\n",
      "|o|x| |x|x|x|o|\n",
      "|x|o| |o|o|o|x|\n",
      "|o|x| |x|x|x|o|\n",
      "|x|x|x|x|o|o|o|\n",
      "|o|o|o|x|o|o|o|\n",
      "\n"
     ]
    },
    {
     "data": {
      "text/plain": [
       "1"
      ]
     },
     "execution_count": 14,
     "metadata": {},
     "output_type": "execute_result"
    }
   ],
   "source": [
    "connect_four = ConnectFour()\n",
    "start_state = connect_four.start()\n",
    "\n",
    "manager = GameManager(connect_four, IOPlayer('int'), MCTS(start_state))\n",
    "manager.run_single_game()"
   ]
  },
  {
   "cell_type": "code",
   "execution_count": 23,
   "id": "bfbf169f",
   "metadata": {},
   "outputs": [
    {
     "name": "stdout",
     "output_type": "stream",
     "text": [
      "You win!\n",
      "Final state:\n",
      " 0 1 2 3 4 5 6 \n",
      " v v v v v v v \n",
      "| | | |x| | | |\n",
      "|x| |o|x|o| | |\n",
      "|o|x|o|o|x| |o|\n",
      "|x|o|x|x|o| |x|\n",
      "|o|x|o|x|x| |o|\n",
      "|o|x|x|x|o|_|o|\n",
      "\n"
     ]
    },
    {
     "data": {
      "text/plain": [
       "1"
      ]
     },
     "execution_count": 23,
     "metadata": {},
     "output_type": "execute_result"
    }
   ],
   "source": [
    "connect_four = ConnectFour()\n",
    "start_state = connect_four.start()\n",
    "\n",
    "manager = GameManager(connect_four, IOPlayer('int'), MCTS(start_state, time_for_action=1.0))\n",
    "manager.run_single_game()"
   ]
  },
  {
   "cell_type": "code",
   "execution_count": null,
   "id": "c3eb44df",
   "metadata": {},
   "outputs": [],
   "source": []
  }
 ],
 "metadata": {
  "kernelspec": {
   "display_name": "Python 3 (ipykernel)",
   "language": "python",
   "name": "python3"
  },
  "language_info": {
   "codemirror_mode": {
    "name": "ipython",
    "version": 3
   },
   "file_extension": ".py",
   "mimetype": "text/x-python",
   "name": "python",
   "nbconvert_exporter": "python",
   "pygments_lexer": "ipython3",
   "version": "3.12.8"
  }
 },
 "nbformat": 4,
 "nbformat_minor": 5
}
