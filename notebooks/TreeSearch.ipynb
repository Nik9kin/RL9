{
 "cells": [
  {
   "cell_type": "markdown",
   "id": "1411c4b7",
   "metadata": {},
   "source": [
    "# Tree Search для игр"
   ]
  },
  {
   "cell_type": "code",
   "execution_count": 1,
   "id": "413b385b",
   "metadata": {},
   "outputs": [],
   "source": [
    "import os\n",
    "import sys\n",
    "module_path = os.path.abspath(os.path.join('..'))\n",
    "if module_path not in sys.path:\n",
    "    sys.path.append(module_path)\n",
    "\n",
    "import numpy as np\n",
    "import matplotlib.pyplot as plt"
   ]
  },
  {
   "cell_type": "markdown",
   "id": "4ec73ac3",
   "metadata": {},
   "source": [
    "## Крестики-нолики"
   ]
  },
  {
   "cell_type": "code",
   "execution_count": 2,
   "id": "e0fc24d5",
   "metadata": {},
   "outputs": [
    {
     "name": "stdout",
     "output_type": "stream",
     "text": [
      "_|_|_\n",
      "_|_|_\n",
      "_|_|_\n"
     ]
    }
   ],
   "source": [
    "from game import TicTacToe\n",
    "\n",
    "tic_tac_toe = TicTacToe()\n",
    "\n",
    "start_state = tic_tac_toe.start()\n",
    "print(start_state)"
   ]
  },
  {
   "cell_type": "code",
   "execution_count": 3,
   "id": "1d95ebc9",
   "metadata": {},
   "outputs": [
    {
     "data": {
      "text/plain": [
       "1"
      ]
     },
     "execution_count": 3,
     "metadata": {},
     "output_type": "execute_result"
    }
   ],
   "source": [
    "# 1-based index of current player\n",
    "tic_tac_toe.turn"
   ]
  },
  {
   "cell_type": "code",
   "execution_count": 4,
   "id": "f9025308",
   "metadata": {},
   "outputs": [
    {
     "data": {
      "text/plain": [
       "[[0, 0], [0, 1], [0, 2], [1, 0], [1, 1], [1, 2], [2, 0], [2, 1], [2, 2]]"
      ]
     },
     "execution_count": 4,
     "metadata": {},
     "output_type": "execute_result"
    }
   ],
   "source": [
    "start_state.actions"
   ]
  },
  {
   "cell_type": "code",
   "execution_count": 5,
   "id": "4313de20",
   "metadata": {},
   "outputs": [
    {
     "name": "stdout",
     "output_type": "stream",
     "text": [
      "You win!\n",
      "Final state:\n",
      "x|_|_\n",
      "_|x|_\n",
      "o|o|x\n"
     ]
    },
    {
     "data": {
      "text/plain": [
       "1"
      ]
     },
     "execution_count": 5,
     "metadata": {},
     "output_type": "execute_result"
    }
   ],
   "source": [
    "from agent.player import IOPlayer, RandomPlayer\n",
    "from game.manager import GameManager\n",
    "\n",
    "io_player = IOPlayer(from_str='list[int]')\n",
    "random_player = RandomPlayer()\n",
    "\n",
    "manager = GameManager(tic_tac_toe, io_player, random_player)\n",
    "manager.run_single_game()"
   ]
  },
  {
   "cell_type": "code",
   "execution_count": 6,
   "id": "27c8b525",
   "metadata": {},
   "outputs": [
    {
     "name": "stdout",
     "output_type": "stream",
     "text": [
      "You win!\n",
      "Final state:\n",
      "x|x|x\n",
      "_|x|o\n",
      "o|_|o\n"
     ]
    },
    {
     "data": {
      "text/plain": [
       "1"
      ]
     },
     "execution_count": 6,
     "metadata": {},
     "output_type": "execute_result"
    }
   ],
   "source": [
    "from agent.player import BFSPlayer\n",
    "\n",
    "\n",
    "bfs_player = BFSPlayer(2)\n",
    "\n",
    "manager = GameManager(TicTacToe(), io_player, bfs_player)\n",
    "manager.run_single_game()"
   ]
  },
  {
   "cell_type": "code",
   "execution_count": 7,
   "id": "61001821",
   "metadata": {},
   "outputs": [
    {
     "name": "stdout",
     "output_type": "stream",
     "text": [
      "It`s a draw.\n",
      "Final state:\n",
      "o|x|x\n",
      "x|o|o\n",
      "o|x|x\n"
     ]
    }
   ],
   "source": [
    "manager = GameManager(TicTacToe(), bfs_player, io_player)\n",
    "manager.run_single_game()"
   ]
  },
  {
   "cell_type": "code",
   "execution_count": 8,
   "id": "751afdb9",
   "metadata": {},
   "outputs": [
    {
     "data": {
      "application/vnd.jupyter.widget-view+json": {
       "model_id": "e687ff80b4504fb781ba1141690bb1a2",
       "version_major": 2,
       "version_minor": 0
      },
      "text/plain": [
       "  0%|          | 0/10000 [00:00<?, ?it/s]"
      ]
     },
     "metadata": {},
     "output_type": "display_data"
    },
    {
     "data": {
      "text/plain": [
       "{'winners (players)': array([1, 0, 2, ..., 0, 1, 2], shape=(10000,)),\n",
       " 'winners (roles)': array([1, 0, 2, ..., 0, 1, 2], shape=(10000,)),\n",
       " 'winners matrix': array([[1247.,    0.,    0.],\n",
       "        [   0., 5816.,    0.],\n",
       "        [   0.,    0., 2937.]])}"
      ]
     },
     "execution_count": 8,
     "metadata": {},
     "output_type": "execute_result"
    }
   ],
   "source": [
    "n_plays = 10000\n",
    "manager = GameManager(TicTacToe(), RandomPlayer(), RandomPlayer(), n_plays=n_plays)\n",
    "results = manager.run(verbose=True)\n",
    "results"
   ]
  },
  {
   "cell_type": "code",
   "execution_count": 9,
   "id": "1cc20d28",
   "metadata": {},
   "outputs": [
    {
     "data": {
      "text/plain": [
       "array([0.1247, 0.5816, 0.2937])"
      ]
     },
     "execution_count": 9,
     "metadata": {},
     "output_type": "execute_result"
    }
   ],
   "source": [
    "win_counts = np.unique_counts(results[\"winners (roles)\"]).counts\n",
    "win_counts / n_plays"
   ]
  },
  {
   "cell_type": "code",
   "execution_count": 10,
   "id": "d3817692",
   "metadata": {},
   "outputs": [
    {
     "data": {
      "application/vnd.jupyter.widget-view+json": {
       "model_id": "73c9c52b9c874320ae284ba103479145",
       "version_major": 2,
       "version_minor": 0
      },
      "text/plain": [
       "  0%|          | 0/1000 [00:00<?, ?it/s]"
      ]
     },
     "metadata": {},
     "output_type": "display_data"
    },
    {
     "data": {
      "text/plain": [
       "array([[ 60.,   0.,   0.],\n",
       "       [  0., 415., 196.],\n",
       "       [  0., 272.,  57.]])"
      ]
     },
     "execution_count": 10,
     "metadata": {},
     "output_type": "execute_result"
    }
   ],
   "source": [
    "n_plays = 1000\n",
    "manager = GameManager(TicTacToe(), BFSPlayer(1), RandomPlayer(), n_plays=n_plays, shuffling='circular')\n",
    "results = manager.run(verbose=True)\n",
    "results[\"winners matrix\"]"
   ]
  },
  {
   "cell_type": "code",
   "execution_count": 11,
   "id": "1585d7fb",
   "metadata": {},
   "outputs": [
    {
     "data": {
      "application/vnd.jupyter.widget-view+json": {
       "model_id": "c09ef95f59174058a8091e41d429ef91",
       "version_major": 2,
       "version_minor": 0
      },
      "text/plain": [
       "  0%|          | 0/1000 [00:00<?, ?it/s]"
      ]
     },
     "metadata": {},
     "output_type": "display_data"
    },
    {
     "data": {
      "text/plain": [
       "array([[157.,   0.,   0.],\n",
       "       [  0., 451.,  45.],\n",
       "       [  0., 336.,  11.]])"
      ]
     },
     "execution_count": 11,
     "metadata": {},
     "output_type": "execute_result"
    }
   ],
   "source": [
    "n_plays = 1000\n",
    "manager = GameManager(TicTacToe(), BFSPlayer(2), RandomPlayer(), n_plays=n_plays, shuffling='circular')\n",
    "results = manager.run(verbose=True)\n",
    "results[\"winners matrix\"]"
   ]
  },
  {
   "cell_type": "code",
   "execution_count": 12,
   "id": "46ea534f",
   "metadata": {},
   "outputs": [
    {
     "data": {
      "application/vnd.jupyter.widget-view+json": {
       "model_id": "bac4a330e4984a3ebf2045076440b2c9",
       "version_major": 2,
       "version_minor": 0
      },
      "text/plain": [
       "  0%|          | 0/1000 [00:00<?, ?it/s]"
      ]
     },
     "metadata": {},
     "output_type": "display_data"
    },
    {
     "data": {
      "text/plain": [
       "array([[ 40.,   0.,   0.],\n",
       "       [  0., 350., 359.],\n",
       "       [  0., 122., 129.]])"
      ]
     },
     "execution_count": 12,
     "metadata": {},
     "output_type": "execute_result"
    }
   ],
   "source": [
    "n_plays = 1000\n",
    "manager = GameManager(TicTacToe(), BFSPlayer(1), BFSPlayer(1), n_plays=n_plays, shuffling='circular')\n",
    "results = manager.run(verbose=True)\n",
    "results[\"winners matrix\"]"
   ]
  },
  {
   "cell_type": "code",
   "execution_count": 13,
   "id": "7d59442a",
   "metadata": {},
   "outputs": [
    {
     "data": {
      "application/vnd.jupyter.widget-view+json": {
       "model_id": "ca862178edbd436fb87a5a7a15dc4caa",
       "version_major": 2,
       "version_minor": 0
      },
      "text/plain": [
       "  0%|          | 0/1000 [00:00<?, ?it/s]"
      ]
     },
     "metadata": {},
     "output_type": "display_data"
    },
    {
     "data": {
      "text/plain": [
       "array([[146.,   0.,   0.],\n",
       "       [  0., 440.,  82.],\n",
       "       [  0., 313.,  19.]])"
      ]
     },
     "execution_count": 13,
     "metadata": {},
     "output_type": "execute_result"
    }
   ],
   "source": [
    "n_plays = 1000\n",
    "manager = GameManager(TicTacToe(), BFSPlayer(2), BFSPlayer(1), n_plays=n_plays, shuffling='circular')\n",
    "results = manager.run(verbose=True)\n",
    "results[\"winners matrix\"]"
   ]
  },
  {
   "cell_type": "code",
   "execution_count": 14,
   "id": "b74efbb4",
   "metadata": {},
   "outputs": [
    {
     "data": {
      "application/vnd.jupyter.widget-view+json": {
       "model_id": "2a0070e134214464a694e0533067305b",
       "version_major": 2,
       "version_minor": 0
      },
      "text/plain": [
       "  0%|          | 0/1000 [00:00<?, ?it/s]"
      ]
     },
     "metadata": {},
     "output_type": "display_data"
    },
    {
     "data": {
      "text/plain": [
       "array([[517.,   0.,   0.],\n",
       "       [  0., 142., 150.],\n",
       "       [  0.,  92.,  99.]])"
      ]
     },
     "execution_count": 14,
     "metadata": {},
     "output_type": "execute_result"
    }
   ],
   "source": [
    "n_plays = 1000\n",
    "manager = GameManager(TicTacToe(), BFSPlayer(2), BFSPlayer(2), n_plays=n_plays, shuffling='circular')\n",
    "results = manager.run(verbose=True)\n",
    "results[\"winners matrix\"]"
   ]
  },
  {
   "cell_type": "code",
   "execution_count": 15,
   "id": "329cca43",
   "metadata": {},
   "outputs": [
    {
     "data": {
      "application/vnd.jupyter.widget-view+json": {
       "model_id": "e1ad00e419584f80820f3a5f0b5142cd",
       "version_major": 2,
       "version_minor": 0
      },
      "text/plain": [
       "  0%|          | 0/1000 [00:00<?, ?it/s]"
      ]
     },
     "metadata": {},
     "output_type": "display_data"
    },
    {
     "data": {
      "text/plain": [
       "array([[135.,   0.,   0.],\n",
       "       [  0., 467.,  55.],\n",
       "       [  0., 337.,   6.]])"
      ]
     },
     "execution_count": 15,
     "metadata": {},
     "output_type": "execute_result"
    }
   ],
   "source": [
    "n_plays = 1000\n",
    "manager = GameManager(TicTacToe(), BFSPlayer(3), RandomPlayer(), n_plays=n_plays, shuffling='circular')\n",
    "results = manager.run(verbose=True)\n",
    "results[\"winners matrix\"]"
   ]
  },
  {
   "cell_type": "code",
   "execution_count": 16,
   "id": "905a20df",
   "metadata": {},
   "outputs": [
    {
     "name": "stdout",
     "output_type": "stream",
     "text": [
      "You win!\n",
      "Final state:\n",
      "x|o|o\n",
      "x|x|_\n",
      "x|_|o\n"
     ]
    },
    {
     "data": {
      "text/plain": [
       "1"
      ]
     },
     "execution_count": 16,
     "metadata": {},
     "output_type": "execute_result"
    }
   ],
   "source": [
    "manager = GameManager(TicTacToe(), io_player, BFSPlayer(5))\n",
    "manager.run_single_game()"
   ]
  },
  {
   "cell_type": "code",
   "execution_count": 17,
   "id": "d9b32fc7",
   "metadata": {},
   "outputs": [
    {
     "name": "stdout",
     "output_type": "stream",
     "text": [
      "It`s a draw.\n",
      "Final state:\n",
      "o|x|x\n",
      "x|o|o\n",
      "o|x|x\n"
     ]
    }
   ],
   "source": [
    "manager = GameManager(TicTacToe(), BFSPlayer(5), io_player)\n",
    "manager.run_single_game()"
   ]
  },
  {
   "cell_type": "code",
   "execution_count": null,
   "id": "fba1a078",
   "metadata": {},
   "outputs": [],
   "source": []
  },
  {
   "cell_type": "code",
   "execution_count": 18,
   "id": "2fafca35",
   "metadata": {},
   "outputs": [],
   "source": [
    "from agent.player import DFSPlayer\n",
    "\n",
    "ts = DFSPlayer(verbose=True)"
   ]
  },
  {
   "cell_type": "code",
   "execution_count": 19,
   "id": "a838501f",
   "metadata": {},
   "outputs": [
    {
     "name": "stdout",
     "output_type": "stream",
     "text": [
      "Found 10 states.\n",
      "Found 100 states.\n",
      "Found 1000 states.\n",
      "Found 5478 states in total.\n"
     ]
    }
   ],
   "source": [
    "tic_tac_toe = TicTacToe()\n",
    "ts.fit(tic_tac_toe)"
   ]
  },
  {
   "cell_type": "code",
   "execution_count": 20,
   "id": "12f2f9a7",
   "metadata": {},
   "outputs": [
    {
     "name": "stdout",
     "output_type": "stream",
     "text": [
      "It`s a draw.\n",
      "Final state:\n",
      "x|o|x\n",
      "x|x|o\n",
      "o|x|o\n"
     ]
    }
   ],
   "source": [
    "manager = GameManager(TicTacToe(), io_player, ts)\n",
    "manager.run_single_game()"
   ]
  },
  {
   "cell_type": "code",
   "execution_count": 21,
   "id": "bdc42c16",
   "metadata": {},
   "outputs": [
    {
     "name": "stdout",
     "output_type": "stream",
     "text": [
      "It`s a draw.\n",
      "Final state:\n",
      "o|x|x\n",
      "x|o|o\n",
      "o|x|x\n"
     ]
    }
   ],
   "source": [
    "manager = GameManager(TicTacToe(), ts, io_player)\n",
    "manager.run_single_game()"
   ]
  },
  {
   "cell_type": "code",
   "execution_count": 22,
   "id": "cf49f901",
   "metadata": {},
   "outputs": [
    {
     "data": {
      "application/vnd.jupyter.widget-view+json": {
       "model_id": "23c371e118bd434aa07acfd6a132e390",
       "version_major": 2,
       "version_minor": 0
      },
      "text/plain": [
       "  0%|          | 0/100 [00:00<?, ?it/s]"
      ]
     },
     "metadata": {},
     "output_type": "display_data"
    },
    {
     "data": {
      "text/plain": [
       "array([[10.,  0.,  0.],\n",
       "       [ 0., 49.,  0.],\n",
       "       [ 0., 41.,  0.]])"
      ]
     },
     "execution_count": 22,
     "metadata": {},
     "output_type": "execute_result"
    }
   ],
   "source": [
    "manager = GameManager(TicTacToe(), ts, RandomPlayer(), n_plays=100, shuffling='circular')\n",
    "results = manager.run(verbose=True)\n",
    "results[\"winners matrix\"]"
   ]
  },
  {
   "cell_type": "code",
   "execution_count": 23,
   "id": "e225d101",
   "metadata": {},
   "outputs": [
    {
     "data": {
      "application/vnd.jupyter.widget-view+json": {
       "model_id": "7c3449cd1b6f4103875c1cccb14c7cb0",
       "version_major": 2,
       "version_minor": 0
      },
      "text/plain": [
       "  0%|          | 0/100 [00:00<?, ?it/s]"
      ]
     },
     "metadata": {},
     "output_type": "display_data"
    },
    {
     "data": {
      "text/plain": [
       "array([[11.,  0.,  0.],\n",
       "       [ 0., 50.,  0.],\n",
       "       [ 0., 39.,  0.]])"
      ]
     },
     "execution_count": 23,
     "metadata": {},
     "output_type": "execute_result"
    }
   ],
   "source": [
    "manager = GameManager(TicTacToe(), ts, BFSPlayer(1), n_plays=100, shuffling='circular')\n",
    "results = manager.run(verbose=True)\n",
    "results[\"winners matrix\"]"
   ]
  },
  {
   "cell_type": "code",
   "execution_count": 24,
   "id": "89e615f2",
   "metadata": {},
   "outputs": [
    {
     "data": {
      "application/vnd.jupyter.widget-view+json": {
       "model_id": "380c3d46767a4c1d992b09a71d24e4c8",
       "version_major": 2,
       "version_minor": 0
      },
      "text/plain": [
       "  0%|          | 0/100 [00:00<?, ?it/s]"
      ]
     },
     "metadata": {},
     "output_type": "display_data"
    },
    {
     "data": {
      "text/plain": [
       "array([[54.,  0.,  0.],\n",
       "       [ 0., 37.,  0.],\n",
       "       [ 0.,  9.,  0.]])"
      ]
     },
     "execution_count": 24,
     "metadata": {},
     "output_type": "execute_result"
    }
   ],
   "source": [
    "manager = GameManager(TicTacToe(), ts, BFSPlayer(2), n_plays=100, shuffling='circular')\n",
    "results = manager.run(verbose=True)\n",
    "results[\"winners matrix\"]"
   ]
  },
  {
   "cell_type": "code",
   "execution_count": 25,
   "id": "faf14aaa",
   "metadata": {},
   "outputs": [
    {
     "data": {
      "application/vnd.jupyter.widget-view+json": {
       "model_id": "4e6e7d2d934f45439fb4f2b118efba44",
       "version_major": 2,
       "version_minor": 0
      },
      "text/plain": [
       "  0%|          | 0/100 [00:00<?, ?it/s]"
      ]
     },
     "metadata": {},
     "output_type": "display_data"
    },
    {
     "data": {
      "text/plain": [
       "array([[52.,  0.,  0.],\n",
       "       [ 0., 39.,  0.],\n",
       "       [ 0.,  9.,  0.]])"
      ]
     },
     "execution_count": 25,
     "metadata": {},
     "output_type": "execute_result"
    }
   ],
   "source": [
    "manager = GameManager(TicTacToe(), ts, BFSPlayer(3), n_plays=100, shuffling='circular')\n",
    "results = manager.run(verbose=True)\n",
    "results[\"winners matrix\"]"
   ]
  },
  {
   "cell_type": "code",
   "execution_count": 26,
   "id": "66692505",
   "metadata": {},
   "outputs": [
    {
     "data": {
      "application/vnd.jupyter.widget-view+json": {
       "model_id": "80d00538d09b4a28aed99fbb8c69b7f7",
       "version_major": 2,
       "version_minor": 0
      },
      "text/plain": [
       "  0%|          | 0/100 [00:00<?, ?it/s]"
      ]
     },
     "metadata": {},
     "output_type": "display_data"
    },
    {
     "data": {
      "text/plain": [
       "array([[100.,   0.,   0.],\n",
       "       [  0.,   0.,   0.],\n",
       "       [  0.,   0.,   0.]])"
      ]
     },
     "execution_count": 26,
     "metadata": {},
     "output_type": "execute_result"
    }
   ],
   "source": [
    "manager = GameManager(TicTacToe(), ts, ts, n_plays=100, shuffling='circular')\n",
    "results = manager.run(verbose=True)\n",
    "results[\"winners matrix\"]"
   ]
  },
  {
   "cell_type": "markdown",
   "id": "421361b9",
   "metadata": {},
   "source": [
    "## Connect Four"
   ]
  },
  {
   "cell_type": "code",
   "execution_count": 27,
   "id": "71965b66",
   "metadata": {},
   "outputs": [
    {
     "name": "stdout",
     "output_type": "stream",
     "text": [
      " 0 1 2 3 4 5 6 \n",
      " v v v v v v v \n",
      "| | | | | | | |\n",
      "| | | | | | | |\n",
      "| | | | | | | |\n",
      "| | | | | | | |\n",
      "| | | | | | | |\n",
      "|_|_|_|_|_|_|_|\n",
      "\n"
     ]
    }
   ],
   "source": [
    "from game import ConnectFour\n",
    "\n",
    "connect_four = ConnectFour()\n",
    "print(connect_four.start())"
   ]
  },
  {
   "cell_type": "code",
   "execution_count": 28,
   "id": "165f0582",
   "metadata": {},
   "outputs": [
    {
     "data": {
      "text/plain": [
       "[0, 1, 2, 3, 4, 5, 6]"
      ]
     },
     "execution_count": 28,
     "metadata": {},
     "output_type": "execute_result"
    }
   ],
   "source": [
    "connect_four.start().actions"
   ]
  },
  {
   "cell_type": "code",
   "execution_count": 29,
   "id": "d520b567",
   "metadata": {},
   "outputs": [
    {
     "name": "stdout",
     "output_type": "stream",
     "text": [
      "You are lose :(\n",
      "Final state:\n",
      " 0 1 2 3 4 5 6 \n",
      " v v v v v v v \n",
      "| | | | | | | |\n",
      "| | | | | |o| |\n",
      "| | | | |o|x| |\n",
      "| | |x|o|x|o|o|\n",
      "|x|x|o|x|o|x|o|\n",
      "|x|o|o|x|x|o|x|\n",
      "\n"
     ]
    },
    {
     "data": {
      "text/plain": [
       "2"
      ]
     },
     "execution_count": 29,
     "metadata": {},
     "output_type": "execute_result"
    }
   ],
   "source": [
    "manager = GameManager(ConnectFour(), IOPlayer(from_str=int), BFSPlayer(4))\n",
    "manager.run_single_game()"
   ]
  },
  {
   "cell_type": "code",
   "execution_count": 30,
   "id": "de6ee4b9",
   "metadata": {},
   "outputs": [
    {
     "name": "stdout",
     "output_type": "stream",
     "text": [
      "You win!\n",
      "Final state:\n",
      " 0 1 2 3 4 5 6 \n",
      " v v v v v v v \n",
      "|o| |x|o|o|o| |\n",
      "|x| |o|x|x|o| |\n",
      "|o| |x|o|x|x|x|\n",
      "|o| |x|x|o|o|o|\n",
      "|x|o|o|o|o|x|x|\n",
      "|x|x|o|x|x|o|x|\n",
      "\n"
     ]
    },
    {
     "data": {
      "text/plain": [
       "2"
      ]
     },
     "execution_count": 30,
     "metadata": {},
     "output_type": "execute_result"
    }
   ],
   "source": [
    "manager = GameManager(ConnectFour(), BFSPlayer(4), IOPlayer(from_str=int))\n",
    "manager.run_single_game()"
   ]
  },
  {
   "cell_type": "code",
   "execution_count": 31,
   "id": "e4f4c95c",
   "metadata": {},
   "outputs": [
    {
     "data": {
      "application/vnd.jupyter.widget-view+json": {
       "model_id": "abc8c5f2a2504e4fb6681bff3eb9f105",
       "version_major": 2,
       "version_minor": 0
      },
      "text/plain": [
       "  0%|          | 0/1000 [00:00<?, ?it/s]"
      ]
     },
     "metadata": {},
     "output_type": "display_data"
    },
    {
     "data": {
      "text/plain": [
       "array([[  3.,   0.,   0.],\n",
       "       [  0., 538.,   0.],\n",
       "       [  0.,   0., 459.]])"
      ]
     },
     "execution_count": 31,
     "metadata": {},
     "output_type": "execute_result"
    }
   ],
   "source": [
    "manager = GameManager(ConnectFour(), RandomPlayer(), RandomPlayer(), n_plays=1000)\n",
    "results = manager.run(verbose=True)\n",
    "results[\"winners matrix\"]"
   ]
  },
  {
   "cell_type": "code",
   "execution_count": 32,
   "id": "27c1be4c",
   "metadata": {},
   "outputs": [
    {
     "data": {
      "application/vnd.jupyter.widget-view+json": {
       "model_id": "b5ff65528d5c4368b1e1d97dd49124b1",
       "version_major": 2,
       "version_minor": 0
      },
      "text/plain": [
       "  0%|          | 0/500 [00:00<?, ?it/s]"
      ]
     },
     "metadata": {},
     "output_type": "display_data"
    },
    {
     "data": {
      "text/plain": [
       "array([[  2.,   0.,   0.],\n",
       "       [  0., 240.,  13.],\n",
       "       [  0., 237.,   8.]])"
      ]
     },
     "execution_count": 32,
     "metadata": {},
     "output_type": "execute_result"
    }
   ],
   "source": [
    "manager = GameManager(ConnectFour(), BFSPlayer(2), RandomPlayer(), n_plays=500, shuffling='circular')\n",
    "results = manager.run(verbose=True)\n",
    "results[\"winners matrix\"]"
   ]
  },
  {
   "cell_type": "code",
   "execution_count": 36,
   "id": "d9b104aa",
   "metadata": {},
   "outputs": [
    {
     "data": {
      "application/vnd.jupyter.widget-view+json": {
       "model_id": "22787086583947de860089d6c9cc4ea8",
       "version_major": 2,
       "version_minor": 0
      },
      "text/plain": [
       "  0%|          | 0/100 [00:00<?, ?it/s]"
      ]
     },
     "metadata": {},
     "output_type": "display_data"
    },
    {
     "data": {
      "text/plain": [
       "array([[11.,  0.,  0.],\n",
       "       [ 0., 46.,  0.],\n",
       "       [ 0.,  0., 43.]])"
      ]
     },
     "execution_count": 36,
     "metadata": {},
     "output_type": "execute_result"
    }
   ],
   "source": [
    "manager = GameManager(ConnectFour(), BFSPlayer(2), BFSPlayer(2), n_plays=100)\n",
    "results = manager.run(verbose=True)\n",
    "results[\"winners matrix\"]"
   ]
  },
  {
   "cell_type": "code",
   "execution_count": 37,
   "id": "538e0d6d",
   "metadata": {},
   "outputs": [
    {
     "data": {
      "application/vnd.jupyter.widget-view+json": {
       "model_id": "7ee5076facfa4b73a4c7023bc6041ff4",
       "version_major": 2,
       "version_minor": 0
      },
      "text/plain": [
       "  0%|          | 0/50 [00:00<?, ?it/s]"
      ]
     },
     "metadata": {},
     "output_type": "display_data"
    },
    {
     "data": {
      "text/plain": [
       "array([[ 3.,  0.,  0.],\n",
       "       [ 0., 22.,  0.],\n",
       "       [ 0.,  0., 25.]])"
      ]
     },
     "execution_count": 37,
     "metadata": {},
     "output_type": "execute_result"
    }
   ],
   "source": [
    "manager = GameManager(ConnectFour(), BFSPlayer(3), BFSPlayer(3), n_plays=50)\n",
    "results = manager.run(verbose=True)\n",
    "results[\"winners matrix\"]"
   ]
  },
  {
   "cell_type": "code",
   "execution_count": 38,
   "id": "0b52912c",
   "metadata": {},
   "outputs": [
    {
     "data": {
      "application/vnd.jupyter.widget-view+json": {
       "model_id": "55cb750f3f8c4199949b4181e7738adf",
       "version_major": 2,
       "version_minor": 0
      },
      "text/plain": [
       "  0%|          | 0/10 [00:00<?, ?it/s]"
      ]
     },
     "metadata": {},
     "output_type": "display_data"
    },
    {
     "data": {
      "text/plain": [
       "array([[2., 0., 0.],\n",
       "       [0., 2., 0.],\n",
       "       [0., 0., 6.]])"
      ]
     },
     "execution_count": 38,
     "metadata": {},
     "output_type": "execute_result"
    }
   ],
   "source": [
    "manager = GameManager(ConnectFour(), BFSPlayer(4), BFSPlayer(4), n_plays=10)\n",
    "results = manager.run(verbose=True)\n",
    "results[\"winners matrix\"]"
   ]
  },
  {
   "cell_type": "code",
   "execution_count": null,
   "id": "a984f5f1",
   "metadata": {},
   "outputs": [],
   "source": []
  }
 ],
 "metadata": {
  "kernelspec": {
   "display_name": "Python 3 (ipykernel)",
   "language": "python",
   "name": "python3"
  },
  "language_info": {
   "codemirror_mode": {
    "name": "ipython",
    "version": 3
   },
   "file_extension": ".py",
   "mimetype": "text/x-python",
   "name": "python",
   "nbconvert_exporter": "python",
   "pygments_lexer": "ipython3",
   "version": "3.12.8"
  }
 },
 "nbformat": 4,
 "nbformat_minor": 5
}
