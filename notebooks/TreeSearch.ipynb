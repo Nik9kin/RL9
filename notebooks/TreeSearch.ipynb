{
 "cells": [
  {
   "cell_type": "code",
   "execution_count": 1,
   "id": "413b385b",
   "metadata": {},
   "outputs": [],
   "source": [
    "import os\n",
    "import sys\n",
    "module_path = os.path.abspath(os.path.join('..'))\n",
    "if module_path not in sys.path:\n",
    "    sys.path.append(module_path)\n",
    "\n",
    "import numpy as np\n",
    "import matplotlib.pyplot as plt"
   ]
  },
  {
   "cell_type": "code",
   "execution_count": 2,
   "id": "e0fc24d5",
   "metadata": {},
   "outputs": [
    {
     "name": "stdout",
     "output_type": "stream",
     "text": [
      "_|_|_\n",
      "_|_|_\n",
      "_|_|_\n"
     ]
    }
   ],
   "source": [
    "from games import TicTacToe\n",
    "\n",
    "tic_tac_toe = TicTacToe()\n",
    "\n",
    "start_state = tic_tac_toe.start()\n",
    "print(start_state)"
   ]
  },
  {
   "cell_type": "code",
   "execution_count": 3,
   "id": "1d95ebc9",
   "metadata": {},
   "outputs": [
    {
     "data": {
      "text/plain": [
       "1"
      ]
     },
     "execution_count": 3,
     "metadata": {},
     "output_type": "execute_result"
    }
   ],
   "source": [
    "tic_tac_toe.turn"
   ]
  },
  {
   "cell_type": "code",
   "execution_count": 4,
   "id": "f9025308",
   "metadata": {},
   "outputs": [
    {
     "data": {
      "text/plain": [
       "[0, 1, 2, 3, 4, 5, 6, 7, 8]"
      ]
     },
     "execution_count": 4,
     "metadata": {},
     "output_type": "execute_result"
    }
   ],
   "source": [
    "start_state.actions"
   ]
  },
  {
   "cell_type": "code",
   "execution_count": 5,
   "id": "4313de20",
   "metadata": {},
   "outputs": [
    {
     "name": "stdout",
     "output_type": "stream",
     "text": [
      "You are win!\n",
      "Final state:\n",
      "x|x|x\n",
      "_|_|_\n",
      "o|o|_\n"
     ]
    },
    {
     "data": {
      "text/plain": [
       "1"
      ]
     },
     "execution_count": 5,
     "metadata": {},
     "output_type": "execute_result"
    }
   ],
   "source": [
    "from games.player import IOPlayer, RandomPlayer\n",
    "from games.manager import GameManager\n",
    "\n",
    "io_player = IOPlayer(from_str=int, clear_outputs=True)\n",
    "random_player = RandomPlayer()\n",
    "\n",
    "manager = GameManager(tic_tac_toe, io_player, random_player)\n",
    "manager.run_single_game()"
   ]
  },
  {
   "cell_type": "code",
   "execution_count": 7,
   "id": "61001821",
   "metadata": {},
   "outputs": [
    {
     "name": "stdout",
     "output_type": "stream",
     "text": [
      "You are win!\n",
      "Final state:\n",
      "x|_|o\n",
      "x|_|o\n",
      "_|x|o\n"
     ]
    },
    {
     "data": {
      "text/plain": [
       "2"
      ]
     },
     "execution_count": 7,
     "metadata": {},
     "output_type": "execute_result"
    }
   ],
   "source": [
    "manager = GameManager(TicTacToe(), random_player, io_player)\n",
    "manager.run_single_game()"
   ]
  },
  {
   "cell_type": "code",
   "execution_count": 8,
   "id": "751afdb9",
   "metadata": {},
   "outputs": [
    {
     "data": {
      "text/plain": [
       "{'winners': array([2, 1, 1, ..., 1, 2, 1], shape=(2000,))}"
      ]
     },
     "execution_count": 8,
     "metadata": {},
     "output_type": "execute_result"
    }
   ],
   "source": [
    "n_plays = 2000\n",
    "manager = GameManager(TicTacToe(), RandomPlayer(), RandomPlayer(), n_plays=n_plays)\n",
    "results = manager.run()\n",
    "results"
   ]
  },
  {
   "cell_type": "code",
   "execution_count": 9,
   "id": "1cc20d28",
   "metadata": {},
   "outputs": [
    {
     "data": {
      "text/plain": [
       "array([0.131, 0.588, 0.281])"
      ]
     },
     "execution_count": 9,
     "metadata": {},
     "output_type": "execute_result"
    }
   ],
   "source": [
    "win_counts = np.unique_counts(results[\"winners\"]).counts\n",
    "win_counts / n_plays"
   ]
  },
  {
   "cell_type": "code",
   "execution_count": 10,
   "id": "2fafca35",
   "metadata": {},
   "outputs": [],
   "source": [
    "from tree_search import TreeSearch\n",
    "\n",
    "ts = TreeSearch(verbose=True)"
   ]
  },
  {
   "cell_type": "code",
   "execution_count": 11,
   "id": "a838501f",
   "metadata": {},
   "outputs": [
    {
     "name": "stdout",
     "output_type": "stream",
     "text": [
      "Found 10 states.\n",
      "Found 100 states.\n",
      "Found 1000 states.\n",
      "Found 5478 states in total.\n"
     ]
    }
   ],
   "source": [
    "tic_tac_toe = TicTacToe()\n",
    "ts.fit(tic_tac_toe)"
   ]
  },
  {
   "cell_type": "code",
   "execution_count": 12,
   "id": "12f2f9a7",
   "metadata": {},
   "outputs": [
    {
     "name": "stdout",
     "output_type": "stream",
     "text": [
      "It`s a draw.\n",
      "Final state:\n",
      "x|x|o\n",
      "o|o|x\n",
      "x|x|o\n"
     ]
    }
   ],
   "source": [
    "manager = GameManager(TicTacToe(), io_player, ts)\n",
    "manager.run_single_game()"
   ]
  },
  {
   "cell_type": "code",
   "execution_count": 13,
   "id": "bdc42c16",
   "metadata": {},
   "outputs": [
    {
     "name": "stdout",
     "output_type": "stream",
     "text": [
      "It`s a draw.\n",
      "Final state:\n",
      "x|o|x\n",
      "x|o|o\n",
      "o|x|x\n"
     ]
    }
   ],
   "source": [
    "manager = GameManager(TicTacToe(), ts, io_player)\n",
    "manager.run_single_game()"
   ]
  },
  {
   "cell_type": "code",
   "execution_count": null,
   "id": "ec2a3e5e",
   "metadata": {},
   "outputs": [],
   "source": []
  }
 ],
 "metadata": {
  "kernelspec": {
   "display_name": "Python 3 (ipykernel)",
   "language": "python",
   "name": "python3"
  },
  "language_info": {
   "codemirror_mode": {
    "name": "ipython",
    "version": 3
   },
   "file_extension": ".py",
   "mimetype": "text/x-python",
   "name": "python",
   "nbconvert_exporter": "python",
   "pygments_lexer": "ipython3",
   "version": "3.12.8"
  }
 },
 "nbformat": 4,
 "nbformat_minor": 5
}
