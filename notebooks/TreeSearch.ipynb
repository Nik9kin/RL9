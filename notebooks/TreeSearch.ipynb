{
 "cells": [
  {
   "cell_type": "markdown",
   "id": "1411c4b7",
   "metadata": {},
   "source": [
    "# Tree Search для игр"
   ]
  },
  {
   "cell_type": "code",
   "execution_count": 1,
   "id": "413b385b",
   "metadata": {},
   "outputs": [],
   "source": [
    "import os\n",
    "import sys\n",
    "module_path = os.path.abspath(os.path.join('..'))\n",
    "if module_path not in sys.path:\n",
    "    sys.path.append(module_path)\n",
    "\n",
    "import numpy as np\n",
    "import matplotlib.pyplot as plt"
   ]
  },
  {
   "cell_type": "markdown",
   "id": "4ec73ac3",
   "metadata": {},
   "source": [
    "## Крестики-нолики"
   ]
  },
  {
   "cell_type": "code",
   "execution_count": 2,
   "id": "e0fc24d5",
   "metadata": {},
   "outputs": [
    {
     "name": "stdout",
     "output_type": "stream",
     "text": [
      "_|_|_\n",
      "_|_|_\n",
      "_|_|_\n"
     ]
    }
   ],
   "source": [
    "from game import TicTacToe\n",
    "\n",
    "tic_tac_toe = TicTacToe()\n",
    "\n",
    "start_state = tic_tac_toe.start()\n",
    "print(start_state)"
   ]
  },
  {
   "cell_type": "code",
   "execution_count": 3,
   "id": "1d95ebc9",
   "metadata": {},
   "outputs": [
    {
     "data": {
      "text/plain": [
       "np.int64(1)"
      ]
     },
     "execution_count": 3,
     "metadata": {},
     "output_type": "execute_result"
    }
   ],
   "source": [
    "# 1-based index of current player\n",
    "tic_tac_toe.turn"
   ]
  },
  {
   "cell_type": "code",
   "execution_count": 4,
   "id": "f9025308",
   "metadata": {},
   "outputs": [
    {
     "data": {
      "text/plain": [
       "[[0, 0], [0, 1], [0, 2], [1, 0], [1, 1], [1, 2], [2, 0], [2, 1], [2, 2]]"
      ]
     },
     "execution_count": 4,
     "metadata": {},
     "output_type": "execute_result"
    }
   ],
   "source": [
    "start_state.actions"
   ]
  },
  {
   "cell_type": "code",
   "execution_count": 5,
   "id": "4313de20",
   "metadata": {},
   "outputs": [
    {
     "name": "stdout",
     "output_type": "stream",
     "text": [
      "You win!\n",
      "Final state:\n",
      "x|o|_\n",
      "_|x|_\n",
      "o|_|x\n"
     ]
    },
    {
     "data": {
      "text/plain": [
       "np.int64(1)"
      ]
     },
     "execution_count": 5,
     "metadata": {},
     "output_type": "execute_result"
    }
   ],
   "source": [
    "from agent.player import IOPlayer, RandomPlayer\n",
    "from game.manager import GameManager\n",
    "\n",
    "io_player = IOPlayer(from_str='list[int]')\n",
    "random_player = RandomPlayer()\n",
    "\n",
    "manager = GameManager(tic_tac_toe, io_player, random_player)\n",
    "manager.run_single_game()"
   ]
  },
  {
   "cell_type": "code",
   "execution_count": 6,
   "id": "27c8b525",
   "metadata": {},
   "outputs": [
    {
     "name": "stdout",
     "output_type": "stream",
     "text": [
      "You win!\n",
      "Final state:\n",
      "x|o|_\n",
      "x|x|_\n",
      "x|o|o\n"
     ]
    },
    {
     "data": {
      "text/plain": [
       "np.int64(1)"
      ]
     },
     "execution_count": 6,
     "metadata": {},
     "output_type": "execute_result"
    }
   ],
   "source": [
    "from agent.player import BFSPlayer\n",
    "\n",
    "\n",
    "bfs_player = BFSPlayer(2)\n",
    "\n",
    "manager = GameManager(TicTacToe(), io_player, bfs_player)\n",
    "manager.run_single_game()"
   ]
  },
  {
   "cell_type": "code",
   "execution_count": 7,
   "id": "61001821",
   "metadata": {},
   "outputs": [
    {
     "name": "stdout",
     "output_type": "stream",
     "text": [
      "It`s a draw.\n",
      "Final state:\n",
      "x|o|x\n",
      "o|o|x\n",
      "x|x|o\n"
     ]
    }
   ],
   "source": [
    "manager = GameManager(TicTacToe(), bfs_player, io_player)\n",
    "manager.run_single_game()"
   ]
  },
  {
   "cell_type": "code",
   "execution_count": 8,
   "id": "751afdb9",
   "metadata": {},
   "outputs": [
    {
     "data": {
      "application/vnd.jupyter.widget-view+json": {
       "model_id": "0d3b7b45619049fd85ef2b962099e51f",
       "version_major": 2,
       "version_minor": 0
      },
      "text/plain": [
       "  0%|          | 0/10000 [00:00<?, ?it/s]"
      ]
     },
     "metadata": {},
     "output_type": "display_data"
    },
    {
     "data": {
      "text/plain": [
       "{'winners (players)': array([1, 1, 1, ..., 0, 1, 1], shape=(10000,)),\n",
       " 'winners (roles)': array([1, 1, 1, ..., 0, 1, 1], shape=(10000,)),\n",
       " 'winners matrix': array([[1280.,    0.,    0.],\n",
       "        [   0., 5880.,    0.],\n",
       "        [   0.,    0., 2840.]])}"
      ]
     },
     "execution_count": 8,
     "metadata": {},
     "output_type": "execute_result"
    }
   ],
   "source": [
    "n_plays = 10000\n",
    "manager = GameManager(TicTacToe(), RandomPlayer(), RandomPlayer(), n_plays=n_plays)\n",
    "results = manager.run(verbose=True)\n",
    "results"
   ]
  },
  {
   "cell_type": "code",
   "execution_count": 9,
   "id": "1cc20d28",
   "metadata": {},
   "outputs": [
    {
     "data": {
      "text/plain": [
       "array([0.128, 0.588, 0.284])"
      ]
     },
     "execution_count": 9,
     "metadata": {},
     "output_type": "execute_result"
    }
   ],
   "source": [
    "win_counts = np.unique_counts(results[\"winners (roles)\"]).counts\n",
    "win_counts / n_plays"
   ]
  },
  {
   "cell_type": "code",
   "execution_count": 10,
   "id": "d3817692",
   "metadata": {},
   "outputs": [
    {
     "data": {
      "application/vnd.jupyter.widget-view+json": {
       "model_id": "3987d6aaf78d41ee934e46d26229129f",
       "version_major": 2,
       "version_minor": 0
      },
      "text/plain": [
       "  0%|          | 0/1000 [00:00<?, ?it/s]"
      ]
     },
     "metadata": {},
     "output_type": "display_data"
    },
    {
     "data": {
      "text/plain": [
       "array([[ 69.,   0.,   0.],\n",
       "       [  0., 410., 194.],\n",
       "       [  0., 269.,  58.]])"
      ]
     },
     "execution_count": 10,
     "metadata": {},
     "output_type": "execute_result"
    }
   ],
   "source": [
    "n_plays = 1000\n",
    "manager = GameManager(TicTacToe(), BFSPlayer(1), RandomPlayer(), n_plays=n_plays, shuffling='circular')\n",
    "results = manager.run(verbose=True)\n",
    "results[\"winners matrix\"]"
   ]
  },
  {
   "cell_type": "code",
   "execution_count": 11,
   "id": "1585d7fb",
   "metadata": {},
   "outputs": [
    {
     "data": {
      "application/vnd.jupyter.widget-view+json": {
       "model_id": "76bbb3f862ca49019c25983e6ad8c686",
       "version_major": 2,
       "version_minor": 0
      },
      "text/plain": [
       "  0%|          | 0/1000 [00:00<?, ?it/s]"
      ]
     },
     "metadata": {},
     "output_type": "display_data"
    },
    {
     "data": {
      "text/plain": [
       "array([[163.,   0.,   0.],\n",
       "       [  0., 440.,  35.],\n",
       "       [  0., 356.,   6.]])"
      ]
     },
     "execution_count": 11,
     "metadata": {},
     "output_type": "execute_result"
    }
   ],
   "source": [
    "n_plays = 1000\n",
    "manager = GameManager(TicTacToe(), BFSPlayer(2), RandomPlayer(), n_plays=n_plays, shuffling='circular')\n",
    "results = manager.run(verbose=True)\n",
    "results[\"winners matrix\"]"
   ]
  },
  {
   "cell_type": "code",
   "execution_count": 12,
   "id": "46ea534f",
   "metadata": {},
   "outputs": [
    {
     "data": {
      "application/vnd.jupyter.widget-view+json": {
       "model_id": "6f55f9ac78444b418c20bbc74dabe8ae",
       "version_major": 2,
       "version_minor": 0
      },
      "text/plain": [
       "  0%|          | 0/1000 [00:00<?, ?it/s]"
      ]
     },
     "metadata": {},
     "output_type": "display_data"
    },
    {
     "data": {
      "text/plain": [
       "array([[ 43.,   0.,   0.],\n",
       "       [  0., 331., 336.],\n",
       "       [  0., 141., 149.]])"
      ]
     },
     "execution_count": 12,
     "metadata": {},
     "output_type": "execute_result"
    }
   ],
   "source": [
    "n_plays = 1000\n",
    "manager = GameManager(TicTacToe(), BFSPlayer(1), BFSPlayer(1), n_plays=n_plays, shuffling='circular')\n",
    "results = manager.run(verbose=True)\n",
    "results[\"winners matrix\"]"
   ]
  },
  {
   "cell_type": "code",
   "execution_count": 13,
   "id": "7d59442a",
   "metadata": {},
   "outputs": [
    {
     "data": {
      "application/vnd.jupyter.widget-view+json": {
       "model_id": "35bdcdd80df44efe8ee2aab8a417de9e",
       "version_major": 2,
       "version_minor": 0
      },
      "text/plain": [
       "  0%|          | 0/1000 [00:00<?, ?it/s]"
      ]
     },
     "metadata": {},
     "output_type": "display_data"
    },
    {
     "data": {
      "text/plain": [
       "array([[149.,   0.,   0.],\n",
       "       [  0., 440.,  66.],\n",
       "       [  0., 328.,  17.]])"
      ]
     },
     "execution_count": 13,
     "metadata": {},
     "output_type": "execute_result"
    }
   ],
   "source": [
    "n_plays = 1000\n",
    "manager = GameManager(TicTacToe(), BFSPlayer(2), BFSPlayer(1), n_plays=n_plays, shuffling='circular')\n",
    "results = manager.run(verbose=True)\n",
    "results[\"winners matrix\"]"
   ]
  },
  {
   "cell_type": "code",
   "execution_count": 14,
   "id": "b74efbb4",
   "metadata": {},
   "outputs": [
    {
     "data": {
      "application/vnd.jupyter.widget-view+json": {
       "model_id": "98888347e7f94e1390076bcd27c165d1",
       "version_major": 2,
       "version_minor": 0
      },
      "text/plain": [
       "  0%|          | 0/1000 [00:00<?, ?it/s]"
      ]
     },
     "metadata": {},
     "output_type": "display_data"
    },
    {
     "data": {
      "text/plain": [
       "array([[529.,   0.,   0.],\n",
       "       [  0., 151., 158.],\n",
       "       [  0.,  83.,  79.]])"
      ]
     },
     "execution_count": 14,
     "metadata": {},
     "output_type": "execute_result"
    }
   ],
   "source": [
    "n_plays = 1000\n",
    "manager = GameManager(TicTacToe(), BFSPlayer(2), BFSPlayer(2), n_plays=n_plays, shuffling='circular')\n",
    "results = manager.run(verbose=True)\n",
    "results[\"winners matrix\"]"
   ]
  },
  {
   "cell_type": "code",
   "execution_count": 15,
   "id": "329cca43",
   "metadata": {},
   "outputs": [
    {
     "data": {
      "application/vnd.jupyter.widget-view+json": {
       "model_id": "9082c22853134d529c28d79905b2fd4a",
       "version_major": 2,
       "version_minor": 0
      },
      "text/plain": [
       "  0%|          | 0/1000 [00:00<?, ?it/s]"
      ]
     },
     "metadata": {},
     "output_type": "display_data"
    },
    {
     "data": {
      "text/plain": [
       "array([[108.,   0.,   0.],\n",
       "       [  0., 475.,  53.],\n",
       "       [  0., 359.,   5.]])"
      ]
     },
     "execution_count": 15,
     "metadata": {},
     "output_type": "execute_result"
    }
   ],
   "source": [
    "n_plays = 1000\n",
    "manager = GameManager(TicTacToe(), BFSPlayer(3), RandomPlayer(), n_plays=n_plays, shuffling='circular')\n",
    "results = manager.run(verbose=True)\n",
    "results[\"winners matrix\"]"
   ]
  },
  {
   "cell_type": "code",
   "execution_count": 16,
   "id": "905a20df",
   "metadata": {},
   "outputs": [
    {
     "name": "stdout",
     "output_type": "stream",
     "text": [
      "It`s a draw.\n",
      "Final state:\n",
      "o|o|x\n",
      "x|x|o\n",
      "o|x|x\n"
     ]
    }
   ],
   "source": [
    "manager = GameManager(TicTacToe(), io_player, BFSPlayer(5))\n",
    "manager.run_single_game()"
   ]
  },
  {
   "cell_type": "code",
   "execution_count": 17,
   "id": "d9b32fc7",
   "metadata": {},
   "outputs": [
    {
     "name": "stdout",
     "output_type": "stream",
     "text": [
      "You are lose :(\n",
      "Final state:\n",
      "x|x|x\n",
      "o|o|_\n",
      "x|_|o\n"
     ]
    },
    {
     "data": {
      "text/plain": [
       "np.int64(1)"
      ]
     },
     "execution_count": 17,
     "metadata": {},
     "output_type": "execute_result"
    }
   ],
   "source": [
    "manager = GameManager(TicTacToe(), BFSPlayer(5), io_player)\n",
    "manager.run_single_game()"
   ]
  },
  {
   "cell_type": "code",
   "execution_count": 18,
   "id": "2fafca35",
   "metadata": {},
   "outputs": [],
   "source": [
    "from agent.player import DFSPlayer\n",
    "\n",
    "ts = DFSPlayer(verbose=True)"
   ]
  },
  {
   "cell_type": "code",
   "execution_count": 19,
   "id": "a838501f",
   "metadata": {},
   "outputs": [
    {
     "name": "stdout",
     "output_type": "stream",
     "text": [
      "Found 10 states.\n",
      "Found 100 states.\n",
      "Found 1000 states.\n",
      "Found 5478 states in total.\n"
     ]
    }
   ],
   "source": [
    "tic_tac_toe = TicTacToe()\n",
    "ts.fit(tic_tac_toe)"
   ]
  },
  {
   "cell_type": "code",
   "execution_count": 20,
   "id": "12f2f9a7",
   "metadata": {},
   "outputs": [
    {
     "name": "stdout",
     "output_type": "stream",
     "text": [
      "It`s a draw.\n",
      "Final state:\n",
      "x|o|o\n",
      "o|x|x\n",
      "x|x|o\n"
     ]
    }
   ],
   "source": [
    "manager = GameManager(TicTacToe(), io_player, ts)\n",
    "manager.run_single_game()"
   ]
  },
  {
   "cell_type": "code",
   "execution_count": 27,
   "id": "bdc42c16",
   "metadata": {},
   "outputs": [
    {
     "name": "stdout",
     "output_type": "stream",
     "text": [
      "It`s a draw.\n",
      "Final state:\n",
      "o|x|o\n",
      "x|o|x\n",
      "x|o|x\n"
     ]
    }
   ],
   "source": [
    "manager = GameManager(TicTacToe(), ts, io_player)\n",
    "manager.run_single_game()"
   ]
  },
  {
   "cell_type": "code",
   "execution_count": 28,
   "id": "cf49f901",
   "metadata": {},
   "outputs": [
    {
     "data": {
      "application/vnd.jupyter.widget-view+json": {
       "model_id": "405aa996fbad4d999bbb658faa4a2f2d",
       "version_major": 2,
       "version_minor": 0
      },
      "text/plain": [
       "  0%|          | 0/100 [00:00<?, ?it/s]"
      ]
     },
     "metadata": {},
     "output_type": "display_data"
    },
    {
     "data": {
      "text/plain": [
       "array([[ 9.,  0.,  0.],\n",
       "       [ 0., 49.,  0.],\n",
       "       [ 0., 42.,  0.]])"
      ]
     },
     "execution_count": 28,
     "metadata": {},
     "output_type": "execute_result"
    }
   ],
   "source": [
    "manager = GameManager(TicTacToe(), ts, RandomPlayer(), n_plays=100, shuffling='circular')\n",
    "results = manager.run(verbose=True)\n",
    "results[\"winners matrix\"]"
   ]
  },
  {
   "cell_type": "code",
   "execution_count": 29,
   "id": "e225d101",
   "metadata": {},
   "outputs": [
    {
     "data": {
      "application/vnd.jupyter.widget-view+json": {
       "model_id": "5c1b3fc248ca4ac68d888e51932d33ed",
       "version_major": 2,
       "version_minor": 0
      },
      "text/plain": [
       "  0%|          | 0/100 [00:00<?, ?it/s]"
      ]
     },
     "metadata": {},
     "output_type": "display_data"
    },
    {
     "data": {
      "text/plain": [
       "array([[13.,  0.,  0.],\n",
       "       [ 0., 50.,  0.],\n",
       "       [ 0., 37.,  0.]])"
      ]
     },
     "execution_count": 29,
     "metadata": {},
     "output_type": "execute_result"
    }
   ],
   "source": [
    "manager = GameManager(TicTacToe(), ts, BFSPlayer(1), n_plays=100, shuffling='circular')\n",
    "results = manager.run(verbose=True)\n",
    "results[\"winners matrix\"]"
   ]
  },
  {
   "cell_type": "code",
   "execution_count": 30,
   "id": "89e615f2",
   "metadata": {},
   "outputs": [
    {
     "data": {
      "application/vnd.jupyter.widget-view+json": {
       "model_id": "5a1d8081d26c43f68bad4e2acf9af1e4",
       "version_major": 2,
       "version_minor": 0
      },
      "text/plain": [
       "  0%|          | 0/100 [00:00<?, ?it/s]"
      ]
     },
     "metadata": {},
     "output_type": "display_data"
    },
    {
     "data": {
      "text/plain": [
       "array([[55.,  0.,  0.],\n",
       "       [ 0., 39.,  0.],\n",
       "       [ 0.,  6.,  0.]])"
      ]
     },
     "execution_count": 30,
     "metadata": {},
     "output_type": "execute_result"
    }
   ],
   "source": [
    "manager = GameManager(TicTacToe(), ts, BFSPlayer(2), n_plays=100, shuffling='circular')\n",
    "results = manager.run(verbose=True)\n",
    "results[\"winners matrix\"]"
   ]
  },
  {
   "cell_type": "code",
   "execution_count": 31,
   "id": "faf14aaa",
   "metadata": {},
   "outputs": [
    {
     "data": {
      "application/vnd.jupyter.widget-view+json": {
       "model_id": "ed29f8bdde214ed39693e362a3c7a270",
       "version_major": 2,
       "version_minor": 0
      },
      "text/plain": [
       "  0%|          | 0/100 [00:00<?, ?it/s]"
      ]
     },
     "metadata": {},
     "output_type": "display_data"
    },
    {
     "data": {
      "text/plain": [
       "array([[53.,  0.,  0.],\n",
       "       [ 0., 36.,  0.],\n",
       "       [ 0., 11.,  0.]])"
      ]
     },
     "execution_count": 31,
     "metadata": {},
     "output_type": "execute_result"
    }
   ],
   "source": [
    "manager = GameManager(TicTacToe(), ts, BFSPlayer(3), n_plays=100, shuffling='circular')\n",
    "results = manager.run(verbose=True)\n",
    "results[\"winners matrix\"]"
   ]
  },
  {
   "cell_type": "code",
   "execution_count": 32,
   "id": "66692505",
   "metadata": {},
   "outputs": [
    {
     "data": {
      "application/vnd.jupyter.widget-view+json": {
       "model_id": "db25552b47024cffb5917bea08879798",
       "version_major": 2,
       "version_minor": 0
      },
      "text/plain": [
       "  0%|          | 0/100 [00:00<?, ?it/s]"
      ]
     },
     "metadata": {},
     "output_type": "display_data"
    },
    {
     "data": {
      "text/plain": [
       "array([[100.,   0.,   0.],\n",
       "       [  0.,   0.,   0.],\n",
       "       [  0.,   0.,   0.]])"
      ]
     },
     "execution_count": 32,
     "metadata": {},
     "output_type": "execute_result"
    }
   ],
   "source": [
    "manager = GameManager(TicTacToe(), ts, ts, n_plays=100, shuffling='circular')\n",
    "results = manager.run(verbose=True)\n",
    "results[\"winners matrix\"]"
   ]
  },
  {
   "cell_type": "markdown",
   "id": "421361b9",
   "metadata": {},
   "source": [
    "## Connect Four"
   ]
  },
  {
   "cell_type": "code",
   "execution_count": 33,
   "id": "71965b66",
   "metadata": {},
   "outputs": [
    {
     "name": "stdout",
     "output_type": "stream",
     "text": [
      " 0 1 2 3 4 5 6 \n",
      " v v v v v v v \n",
      "| | | | | | | |\n",
      "| | | | | | | |\n",
      "| | | | | | | |\n",
      "| | | | | | | |\n",
      "| | | | | | | |\n",
      "|_|_|_|_|_|_|_|\n",
      "\n"
     ]
    }
   ],
   "source": [
    "from game import ConnectFour\n",
    "\n",
    "connect_four = ConnectFour()\n",
    "print(connect_four.start())"
   ]
  },
  {
   "cell_type": "code",
   "execution_count": 34,
   "id": "165f0582",
   "metadata": {},
   "outputs": [
    {
     "data": {
      "text/plain": [
       "[0, 1, 2, 3, 4, 5, 6]"
      ]
     },
     "execution_count": 34,
     "metadata": {},
     "output_type": "execute_result"
    }
   ],
   "source": [
    "connect_four.start().actions"
   ]
  },
  {
   "cell_type": "code",
   "execution_count": 35,
   "id": "d520b567",
   "metadata": {},
   "outputs": [
    {
     "name": "stdout",
     "output_type": "stream",
     "text": [
      "You win!\n",
      "Final state:\n",
      " 0 1 2 3 4 5 6 \n",
      " v v v v v v v \n",
      "| | | |x| | | |\n",
      "| |o| |x| |x| |\n",
      "| |x| |o| |o| |\n",
      "| |o|o|x| |x| |\n",
      "|o|x|x|x|x|o|x|\n",
      "|o|o|x|x|o|o|o|\n",
      "\n"
     ]
    },
    {
     "data": {
      "text/plain": [
       "np.int64(1)"
      ]
     },
     "execution_count": 35,
     "metadata": {},
     "output_type": "execute_result"
    }
   ],
   "source": [
    "manager = GameManager(ConnectFour(), IOPlayer(from_str=int), BFSPlayer(4))\n",
    "manager.run_single_game()"
   ]
  },
  {
   "cell_type": "code",
   "execution_count": 36,
   "id": "de6ee4b9",
   "metadata": {},
   "outputs": [
    {
     "name": "stdout",
     "output_type": "stream",
     "text": [
      "You win!\n",
      "Final state:\n",
      " 0 1 2 3 4 5 6 \n",
      " v v v v v v v \n",
      "| |o| |o|o| |o|\n",
      "| |x| |o|x| |o|\n",
      "| |o| |x|x| |x|\n",
      "| |o|o|o|o| |o|\n",
      "|x|o|x|o|x| |x|\n",
      "|x|x|x|o|x|x|x|\n",
      "\n"
     ]
    },
    {
     "data": {
      "text/plain": [
       "np.int64(2)"
      ]
     },
     "execution_count": 36,
     "metadata": {},
     "output_type": "execute_result"
    }
   ],
   "source": [
    "manager = GameManager(ConnectFour(), BFSPlayer(4), IOPlayer(from_str=int))\n",
    "manager.run_single_game()"
   ]
  },
  {
   "cell_type": "code",
   "execution_count": 37,
   "id": "e4f4c95c",
   "metadata": {},
   "outputs": [
    {
     "data": {
      "application/vnd.jupyter.widget-view+json": {
       "model_id": "cc588ce905d54e118e8bec7918012bb3",
       "version_major": 2,
       "version_minor": 0
      },
      "text/plain": [
       "  0%|          | 0/1000 [00:00<?, ?it/s]"
      ]
     },
     "metadata": {},
     "output_type": "display_data"
    },
    {
     "data": {
      "text/plain": [
       "array([[  2.,   0.,   0.],\n",
       "       [  0., 522.,   0.],\n",
       "       [  0.,   0., 476.]])"
      ]
     },
     "execution_count": 37,
     "metadata": {},
     "output_type": "execute_result"
    }
   ],
   "source": [
    "manager = GameManager(ConnectFour(), RandomPlayer(), RandomPlayer(), n_plays=1000)\n",
    "results = manager.run(verbose=True)\n",
    "results[\"winners matrix\"]"
   ]
  },
  {
   "cell_type": "code",
   "execution_count": 38,
   "id": "27c1be4c",
   "metadata": {},
   "outputs": [
    {
     "data": {
      "application/vnd.jupyter.widget-view+json": {
       "model_id": "f3e08b3c4e594005baf9a289a4487d42",
       "version_major": 2,
       "version_minor": 0
      },
      "text/plain": [
       "  0%|          | 0/500 [00:00<?, ?it/s]"
      ]
     },
     "metadata": {},
     "output_type": "display_data"
    },
    {
     "data": {
      "text/plain": [
       "array([[  1.,   0.,   0.],\n",
       "       [  0., 236.,  16.],\n",
       "       [  0., 234.,  13.]])"
      ]
     },
     "execution_count": 38,
     "metadata": {},
     "output_type": "execute_result"
    }
   ],
   "source": [
    "manager = GameManager(ConnectFour(), BFSPlayer(2), RandomPlayer(), n_plays=500, shuffling='circular')\n",
    "results = manager.run(verbose=True)\n",
    "results[\"winners matrix\"]"
   ]
  },
  {
   "cell_type": "code",
   "execution_count": 39,
   "id": "d9b104aa",
   "metadata": {},
   "outputs": [
    {
     "data": {
      "application/vnd.jupyter.widget-view+json": {
       "model_id": "91a808bf1dff4339bfc4260c7176104a",
       "version_major": 2,
       "version_minor": 0
      },
      "text/plain": [
       "  0%|          | 0/100 [00:00<?, ?it/s]"
      ]
     },
     "metadata": {},
     "output_type": "display_data"
    },
    {
     "data": {
      "text/plain": [
       "array([[12.,  0.,  0.],\n",
       "       [ 0., 50.,  0.],\n",
       "       [ 0.,  0., 38.]])"
      ]
     },
     "execution_count": 39,
     "metadata": {},
     "output_type": "execute_result"
    }
   ],
   "source": [
    "manager = GameManager(ConnectFour(), BFSPlayer(2), BFSPlayer(2), n_plays=100)\n",
    "results = manager.run(verbose=True)\n",
    "results[\"winners matrix\"]"
   ]
  },
  {
   "cell_type": "code",
   "execution_count": 40,
   "id": "538e0d6d",
   "metadata": {},
   "outputs": [
    {
     "data": {
      "application/vnd.jupyter.widget-view+json": {
       "model_id": "194bfab3e81741b98b043c73eae790ad",
       "version_major": 2,
       "version_minor": 0
      },
      "text/plain": [
       "  0%|          | 0/50 [00:00<?, ?it/s]"
      ]
     },
     "metadata": {},
     "output_type": "display_data"
    },
    {
     "data": {
      "text/plain": [
       "array([[ 1.,  0.,  0.],\n",
       "       [ 0., 28.,  0.],\n",
       "       [ 0.,  0., 21.]])"
      ]
     },
     "execution_count": 40,
     "metadata": {},
     "output_type": "execute_result"
    }
   ],
   "source": [
    "manager = GameManager(ConnectFour(), BFSPlayer(3), BFSPlayer(3), n_plays=50)\n",
    "results = manager.run(verbose=True)\n",
    "results[\"winners matrix\"]"
   ]
  },
  {
   "cell_type": "code",
   "execution_count": 41,
   "id": "0b52912c",
   "metadata": {},
   "outputs": [
    {
     "data": {
      "application/vnd.jupyter.widget-view+json": {
       "model_id": "25dcef9d6b22456c9d5d514020a8affa",
       "version_major": 2,
       "version_minor": 0
      },
      "text/plain": [
       "  0%|          | 0/10 [00:00<?, ?it/s]"
      ]
     },
     "metadata": {},
     "output_type": "display_data"
    },
    {
     "data": {
      "text/plain": [
       "array([[1., 0., 0.],\n",
       "       [0., 4., 0.],\n",
       "       [0., 0., 5.]])"
      ]
     },
     "execution_count": 41,
     "metadata": {},
     "output_type": "execute_result"
    }
   ],
   "source": [
    "manager = GameManager(ConnectFour(), BFSPlayer(4), BFSPlayer(4), n_plays=10)\n",
    "results = manager.run(verbose=True)\n",
    "results[\"winners matrix\"]"
   ]
  },
  {
   "cell_type": "code",
   "execution_count": null,
   "id": "a984f5f1",
   "metadata": {},
   "outputs": [],
   "source": []
  }
 ],
 "metadata": {
  "kernelspec": {
   "display_name": "Python 3 (ipykernel)",
   "language": "python",
   "name": "python3"
  },
  "language_info": {
   "codemirror_mode": {
    "name": "ipython",
    "version": 3
   },
   "file_extension": ".py",
   "mimetype": "text/x-python",
   "name": "python",
   "nbconvert_exporter": "python",
   "pygments_lexer": "ipython3",
   "version": "3.12.8"
  }
 },
 "nbformat": 4,
 "nbformat_minor": 5
}
