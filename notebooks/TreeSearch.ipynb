{
 "cells": [
  {
   "cell_type": "code",
   "execution_count": 1,
   "id": "413b385b",
   "metadata": {},
   "outputs": [],
   "source": [
    "import os\n",
    "import sys\n",
    "module_path = os.path.abspath(os.path.join('..'))\n",
    "if module_path not in sys.path:\n",
    "    sys.path.append(module_path)\n",
    "\n",
    "import numpy as np\n",
    "import matplotlib.pyplot as plt"
   ]
  },
  {
   "cell_type": "code",
   "execution_count": 2,
   "id": "e0fc24d5",
   "metadata": {},
   "outputs": [
    {
     "name": "stdout",
     "output_type": "stream",
     "text": [
      "_|_|_\n",
      "_|_|_\n",
      "_|_|_\n"
     ]
    }
   ],
   "source": [
    "from game import TicTacToe\n",
    "\n",
    "tic_tac_toe = TicTacToe()\n",
    "\n",
    "start_state = tic_tac_toe.start()\n",
    "print(start_state)"
   ]
  },
  {
   "cell_type": "code",
   "execution_count": 3,
   "id": "1d95ebc9",
   "metadata": {},
   "outputs": [
    {
     "data": {
      "text/plain": [
       "1"
      ]
     },
     "execution_count": 3,
     "metadata": {},
     "output_type": "execute_result"
    }
   ],
   "source": [
    "tic_tac_toe.turn"
   ]
  },
  {
   "cell_type": "code",
   "execution_count": 4,
   "id": "f9025308",
   "metadata": {},
   "outputs": [
    {
     "data": {
      "text/plain": [
       "[[0, 0], [0, 1], [0, 2], [1, 0], [1, 1], [1, 2], [2, 0], [2, 1], [2, 2]]"
      ]
     },
     "execution_count": 4,
     "metadata": {},
     "output_type": "execute_result"
    }
   ],
   "source": [
    "start_state.actions"
   ]
  },
  {
   "cell_type": "code",
   "execution_count": 5,
   "id": "4313de20",
   "metadata": {},
   "outputs": [
    {
     "name": "stdout",
     "output_type": "stream",
     "text": [
      "You win!\n",
      "Final state:\n",
      "x|_|o\n",
      "_|x|o\n",
      "_|_|x\n"
     ]
    },
    {
     "data": {
      "text/plain": [
       "1"
      ]
     },
     "execution_count": 5,
     "metadata": {},
     "output_type": "execute_result"
    }
   ],
   "source": [
    "from agent.player import IOPlayer, RandomPlayer\n",
    "from game.manager import GameManager\n",
    "\n",
    "io_player = IOPlayer(from_str=lambda s: list(map(int, s.split())), clear_outputs=True)\n",
    "random_player = RandomPlayer()\n",
    "\n",
    "manager = GameManager(tic_tac_toe, io_player, random_player)\n",
    "manager.run_single_game()"
   ]
  },
  {
   "cell_type": "code",
   "execution_count": 6,
   "id": "61001821",
   "metadata": {},
   "outputs": [
    {
     "name": "stdout",
     "output_type": "stream",
     "text": [
      "You win!\n",
      "Final state:\n",
      "o|_|x\n",
      "x|o|_\n",
      "_|x|o\n"
     ]
    },
    {
     "data": {
      "text/plain": [
       "2"
      ]
     },
     "execution_count": 6,
     "metadata": {},
     "output_type": "execute_result"
    }
   ],
   "source": [
    "manager = GameManager(TicTacToe(), random_player, io_player)\n",
    "manager.run_single_game()"
   ]
  },
  {
   "cell_type": "code",
   "execution_count": 7,
   "id": "751afdb9",
   "metadata": {},
   "outputs": [
    {
     "data": {
      "text/plain": [
       "{'winners': array([1, 2, 1, ..., 0, 2, 1], shape=(2000,))}"
      ]
     },
     "execution_count": 7,
     "metadata": {},
     "output_type": "execute_result"
    }
   ],
   "source": [
    "n_plays = 2000\n",
    "manager = GameManager(TicTacToe(), RandomPlayer(), RandomPlayer(), n_plays=n_plays)\n",
    "results = manager.run()\n",
    "results"
   ]
  },
  {
   "cell_type": "code",
   "execution_count": 8,
   "id": "1cc20d28",
   "metadata": {},
   "outputs": [
    {
     "data": {
      "text/plain": [
       "array([0.1235, 0.5995, 0.277 ])"
      ]
     },
     "execution_count": 8,
     "metadata": {},
     "output_type": "execute_result"
    }
   ],
   "source": [
    "win_counts = np.unique_counts(results[\"winners\"]).counts\n",
    "win_counts / n_plays"
   ]
  },
  {
   "cell_type": "code",
   "execution_count": 9,
   "id": "2fafca35",
   "metadata": {},
   "outputs": [],
   "source": [
    "from tree_search import TreeSearch\n",
    "\n",
    "ts = TreeSearch(verbose=True)"
   ]
  },
  {
   "cell_type": "code",
   "execution_count": 10,
   "id": "a838501f",
   "metadata": {},
   "outputs": [
    {
     "name": "stdout",
     "output_type": "stream",
     "text": [
      "Found 10 states.\n",
      "Found 100 states.\n",
      "Found 1000 states.\n",
      "Found 5478 states in total.\n"
     ]
    }
   ],
   "source": [
    "tic_tac_toe = TicTacToe()\n",
    "ts.fit(tic_tac_toe)"
   ]
  },
  {
   "cell_type": "code",
   "execution_count": 13,
   "id": "12f2f9a7",
   "metadata": {},
   "outputs": [
    {
     "name": "stdout",
     "output_type": "stream",
     "text": [
      "It`s a draw.\n",
      "Final state:\n",
      "x|o|x\n",
      "o|x|x\n",
      "o|x|o\n"
     ]
    }
   ],
   "source": [
    "manager = GameManager(TicTacToe(), io_player, ts)\n",
    "manager.run_single_game()"
   ]
  },
  {
   "cell_type": "code",
   "execution_count": 14,
   "id": "bdc42c16",
   "metadata": {},
   "outputs": [
    {
     "name": "stdout",
     "output_type": "stream",
     "text": [
      "It`s a draw.\n",
      "Final state:\n",
      "o|x|x\n",
      "x|o|o\n",
      "o|x|x\n"
     ]
    }
   ],
   "source": [
    "manager = GameManager(TicTacToe(), ts, io_player)\n",
    "manager.run_single_game()"
   ]
  },
  {
   "cell_type": "code",
   "execution_count": 15,
   "id": "71965b66",
   "metadata": {},
   "outputs": [
    {
     "name": "stdout",
     "output_type": "stream",
     "text": [
      "_|_|_|_|_|_|_\n",
      "_|_|_|_|_|_|_\n",
      "_|_|_|_|_|_|_\n",
      "_|_|_|_|_|_|_\n",
      "_|_|_|_|_|_|_\n",
      "_|_|_|_|_|_|_\n"
     ]
    }
   ],
   "source": [
    "from game import ConnectFour\n",
    "\n",
    "connect_four = ConnectFour()\n",
    "print(connect_four.start())"
   ]
  },
  {
   "cell_type": "code",
   "execution_count": 16,
   "id": "165f0582",
   "metadata": {},
   "outputs": [
    {
     "data": {
      "text/plain": [
       "[0, 1, 2, 3, 4, 5, 6]"
      ]
     },
     "execution_count": 16,
     "metadata": {},
     "output_type": "execute_result"
    }
   ],
   "source": [
    "connect_four.start().actions"
   ]
  },
  {
   "cell_type": "code",
   "execution_count": 17,
   "id": "d520b567",
   "metadata": {},
   "outputs": [
    {
     "name": "stdout",
     "output_type": "stream",
     "text": [
      "You win!\n",
      "Final state:\n",
      "_|_|_|_|_|_|_\n",
      "_|_|_|_|_|_|_\n",
      "x|_|_|_|_|_|_\n",
      "x|_|_|_|_|_|_\n",
      "x|o|_|_|_|_|_\n",
      "x|o|_|_|_|o|_\n"
     ]
    },
    {
     "data": {
      "text/plain": [
       "1"
      ]
     },
     "execution_count": 17,
     "metadata": {},
     "output_type": "execute_result"
    }
   ],
   "source": [
    "from agent.player import RandomPlayer, IOPlayer\n",
    "from game.manager import GameManager\n",
    "\n",
    "manager = GameManager(ConnectFour(), IOPlayer(from_str=int, clear_outputs=True), RandomPlayer())\n",
    "manager.run_single_game()"
   ]
  },
  {
   "cell_type": "code",
   "execution_count": 20,
   "id": "5a1123aa",
   "metadata": {},
   "outputs": [
    {
     "name": "stdout",
     "output_type": "stream",
     "text": [
      "Found 10 states.\n",
      "Found 100 states.\n",
      "Found 1000 states.\n",
      "Found 10000 states.\n",
      "Found 100000 states.\n",
      "Found 161029 states in total.\n"
     ]
    }
   ],
   "source": [
    "ts = TreeSearch(verbose=True)\n",
    "ts.fit(ConnectFour(4, 4))"
   ]
  },
  {
   "cell_type": "code",
   "execution_count": 24,
   "id": "b9969c5b",
   "metadata": {},
   "outputs": [
    {
     "name": "stdout",
     "output_type": "stream",
     "text": [
      "It`s a draw.\n",
      "Final state:\n",
      "x|o|o|o\n",
      "o|x|x|x\n",
      "o|o|o|x\n",
      "o|x|x|x\n"
     ]
    }
   ],
   "source": [
    "manager = GameManager(ConnectFour(4, 4), ts, IOPlayer(from_str=int, clear_outputs=True))\n",
    "manager.run_single_game()"
   ]
  },
  {
   "cell_type": "code",
   "execution_count": 22,
   "id": "f8614849",
   "metadata": {},
   "outputs": [
    {
     "data": {
      "text/plain": [
       "3"
      ]
     },
     "execution_count": 22,
     "metadata": {},
     "output_type": "execute_result"
    }
   ],
   "source": [
    "ts.do_action(ConnectFour(4, 4).start())"
   ]
  }
 ],
 "metadata": {
  "kernelspec": {
   "display_name": "Python 3 (ipykernel)",
   "language": "python",
   "name": "python3"
  },
  "language_info": {
   "codemirror_mode": {
    "name": "ipython",
    "version": 3
   },
   "file_extension": ".py",
   "mimetype": "text/x-python",
   "name": "python",
   "nbconvert_exporter": "python",
   "pygments_lexer": "ipython3",
   "version": "3.12.8"
  }
 },
 "nbformat": 4,
 "nbformat_minor": 5
}
