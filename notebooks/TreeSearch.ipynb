{
 "cells": [
  {
   "cell_type": "markdown",
   "id": "1411c4b7",
   "metadata": {},
   "source": [
    "# Tree Search для игр"
   ]
  },
  {
   "cell_type": "code",
   "execution_count": 1,
   "id": "413b385b",
   "metadata": {},
   "outputs": [],
   "source": [
    "import os\n",
    "import sys\n",
    "module_path = os.path.abspath(os.path.join('..'))\n",
    "if module_path not in sys.path:\n",
    "    sys.path.append(module_path)\n",
    "\n",
    "import numpy as np\n",
    "import matplotlib.pyplot as plt"
   ]
  },
  {
   "cell_type": "markdown",
   "id": "4ec73ac3",
   "metadata": {},
   "source": [
    "## Крестики-нолики"
   ]
  },
  {
   "cell_type": "code",
   "execution_count": 2,
   "id": "e0fc24d5",
   "metadata": {},
   "outputs": [
    {
     "name": "stdout",
     "output_type": "stream",
     "text": [
      "_|_|_\n",
      "_|_|_\n",
      "_|_|_\n"
     ]
    }
   ],
   "source": [
    "from game import TicTacToe\n",
    "\n",
    "tic_tac_toe = TicTacToe()\n",
    "\n",
    "start_state = tic_tac_toe.start()\n",
    "print(start_state)"
   ]
  },
  {
   "cell_type": "code",
   "execution_count": 3,
   "id": "1d95ebc9",
   "metadata": {},
   "outputs": [
    {
     "data": {
      "text/plain": [
       "np.int64(1)"
      ]
     },
     "execution_count": 3,
     "metadata": {},
     "output_type": "execute_result"
    }
   ],
   "source": [
    "# 1-based index of current player\n",
    "tic_tac_toe.turn"
   ]
  },
  {
   "cell_type": "code",
   "execution_count": 4,
   "id": "f9025308",
   "metadata": {},
   "outputs": [
    {
     "data": {
      "text/plain": [
       "[[0, 0], [0, 1], [0, 2], [1, 0], [1, 1], [1, 2], [2, 0], [2, 1], [2, 2]]"
      ]
     },
     "execution_count": 4,
     "metadata": {},
     "output_type": "execute_result"
    }
   ],
   "source": [
    "start_state.actions"
   ]
  },
  {
   "cell_type": "code",
   "execution_count": 5,
   "id": "4313de20",
   "metadata": {},
   "outputs": [
    {
     "name": "stdout",
     "output_type": "stream",
     "text": [
      "You win!\n",
      "Final state:\n",
      "x|_|_\n",
      "o|x|o\n",
      "_|_|x\n"
     ]
    },
    {
     "data": {
      "text/plain": [
       "np.int64(1)"
      ]
     },
     "execution_count": 5,
     "metadata": {},
     "output_type": "execute_result"
    }
   ],
   "source": [
    "from agent.player import IOPlayer, RandomPlayer\n",
    "from game.manager import GameManager\n",
    "\n",
    "io_player = IOPlayer(from_str='list[int]')\n",
    "random_player = RandomPlayer()\n",
    "\n",
    "manager = GameManager(tic_tac_toe, io_player, random_player)\n",
    "manager.run_single_game()"
   ]
  },
  {
   "cell_type": "code",
   "execution_count": 6,
   "id": "27c8b525",
   "metadata": {},
   "outputs": [
    {
     "name": "stdout",
     "output_type": "stream",
     "text": [
      "You win!\n",
      "Final state:\n",
      "x|_|o\n",
      "x|x|_\n",
      "x|o|o\n"
     ]
    },
    {
     "data": {
      "text/plain": [
       "np.int64(1)"
      ]
     },
     "execution_count": 6,
     "metadata": {},
     "output_type": "execute_result"
    }
   ],
   "source": [
    "from agent.player import BFSPlayer\n",
    "\n",
    "\n",
    "bfs_player = BFSPlayer(2)\n",
    "\n",
    "manager = GameManager(TicTacToe(), io_player, bfs_player)\n",
    "manager.run_single_game()"
   ]
  },
  {
   "cell_type": "code",
   "execution_count": 7,
   "id": "61001821",
   "metadata": {},
   "outputs": [
    {
     "name": "stdout",
     "output_type": "stream",
     "text": [
      "It`s a draw.\n",
      "Final state:\n",
      "x|x|o\n",
      "o|o|x\n",
      "x|x|o\n"
     ]
    }
   ],
   "source": [
    "manager = GameManager(TicTacToe(), bfs_player, io_player)\n",
    "manager.run_single_game()"
   ]
  },
  {
   "cell_type": "code",
   "execution_count": 8,
   "id": "751afdb9",
   "metadata": {},
   "outputs": [
    {
     "data": {
      "application/vnd.jupyter.widget-view+json": {
       "model_id": "71f71d4b44e4472bb16af64e9fece029",
       "version_major": 2,
       "version_minor": 0
      },
      "text/plain": [
       "  0%|          | 0/10000 [00:00<?, ?it/s]"
      ]
     },
     "metadata": {},
     "output_type": "display_data"
    },
    {
     "data": {
      "text/plain": [
       "{'winners (players)': array([0, 2, 0, ..., 2, 1, 2], shape=(10000,)),\n",
       " 'winners (roles)': array([0, 2, 0, ..., 2, 1, 2], shape=(10000,)),\n",
       " 'winners matrix':             Draw  RandomPlayer  RandomPlayer\n",
       " Draw        1295             0             0\n",
       " X`s player     0          5884             0\n",
       " O`s player     0             0          2821}"
      ]
     },
     "execution_count": 8,
     "metadata": {},
     "output_type": "execute_result"
    }
   ],
   "source": [
    "n_plays = 10000\n",
    "manager = GameManager(TicTacToe(), RandomPlayer(), RandomPlayer(), n_plays=n_plays)\n",
    "results = manager.run(verbose=True)\n",
    "results"
   ]
  },
  {
   "cell_type": "code",
   "execution_count": 9,
   "id": "1cc20d28",
   "metadata": {},
   "outputs": [
    {
     "data": {
      "text/plain": [
       "array([0.1295, 0.5884, 0.2821])"
      ]
     },
     "execution_count": 9,
     "metadata": {},
     "output_type": "execute_result"
    }
   ],
   "source": [
    "win_counts = np.unique_counts(results[\"winners (roles)\"]).counts\n",
    "win_counts / n_plays"
   ]
  },
  {
   "cell_type": "code",
   "execution_count": 10,
   "id": "d3817692",
   "metadata": {},
   "outputs": [
    {
     "data": {
      "application/vnd.jupyter.widget-view+json": {
       "model_id": "3abc38fc67734ee49ecddb17fc77f8e0",
       "version_major": 2,
       "version_minor": 0
      },
      "text/plain": [
       "  0%|          | 0/1000 [00:00<?, ?it/s]"
      ]
     },
     "metadata": {},
     "output_type": "display_data"
    },
    {
     "data": {
      "text/html": [
       "<div>\n",
       "<style scoped>\n",
       "    .dataframe tbody tr th:only-of-type {\n",
       "        vertical-align: middle;\n",
       "    }\n",
       "\n",
       "    .dataframe tbody tr th {\n",
       "        vertical-align: top;\n",
       "    }\n",
       "\n",
       "    .dataframe thead th {\n",
       "        text-align: right;\n",
       "    }\n",
       "</style>\n",
       "<table border=\"1\" class=\"dataframe\">\n",
       "  <thead>\n",
       "    <tr style=\"text-align: right;\">\n",
       "      <th></th>\n",
       "      <th>Draw</th>\n",
       "      <th>BFS-1 Player</th>\n",
       "      <th>RandomPlayer</th>\n",
       "    </tr>\n",
       "  </thead>\n",
       "  <tbody>\n",
       "    <tr>\n",
       "      <th>Draw</th>\n",
       "      <td>79</td>\n",
       "      <td>0</td>\n",
       "      <td>0</td>\n",
       "    </tr>\n",
       "    <tr>\n",
       "      <th>X`s player</th>\n",
       "      <td>0</td>\n",
       "      <td>412</td>\n",
       "      <td>201</td>\n",
       "    </tr>\n",
       "    <tr>\n",
       "      <th>O`s player</th>\n",
       "      <td>0</td>\n",
       "      <td>256</td>\n",
       "      <td>52</td>\n",
       "    </tr>\n",
       "  </tbody>\n",
       "</table>\n",
       "</div>"
      ],
      "text/plain": [
       "            Draw  BFS-1 Player  RandomPlayer\n",
       "Draw          79             0             0\n",
       "X`s player     0           412           201\n",
       "O`s player     0           256            52"
      ]
     },
     "execution_count": 10,
     "metadata": {},
     "output_type": "execute_result"
    }
   ],
   "source": [
    "n_plays = 1000\n",
    "manager = GameManager(TicTacToe(), BFSPlayer(1), RandomPlayer(), n_plays=n_plays, shuffling='circular')\n",
    "results = manager.run(verbose=True)\n",
    "results[\"winners matrix\"]"
   ]
  },
  {
   "cell_type": "code",
   "execution_count": 11,
   "id": "1585d7fb",
   "metadata": {},
   "outputs": [
    {
     "data": {
      "application/vnd.jupyter.widget-view+json": {
       "model_id": "68bd0332749b431cbf6de18be76fa25a",
       "version_major": 2,
       "version_minor": 0
      },
      "text/plain": [
       "  0%|          | 0/1000 [00:00<?, ?it/s]"
      ]
     },
     "metadata": {},
     "output_type": "display_data"
    },
    {
     "data": {
      "text/html": [
       "<div>\n",
       "<style scoped>\n",
       "    .dataframe tbody tr th:only-of-type {\n",
       "        vertical-align: middle;\n",
       "    }\n",
       "\n",
       "    .dataframe tbody tr th {\n",
       "        vertical-align: top;\n",
       "    }\n",
       "\n",
       "    .dataframe thead th {\n",
       "        text-align: right;\n",
       "    }\n",
       "</style>\n",
       "<table border=\"1\" class=\"dataframe\">\n",
       "  <thead>\n",
       "    <tr style=\"text-align: right;\">\n",
       "      <th></th>\n",
       "      <th>Draw</th>\n",
       "      <th>BFS-2 Player</th>\n",
       "      <th>RandomPlayer</th>\n",
       "    </tr>\n",
       "  </thead>\n",
       "  <tbody>\n",
       "    <tr>\n",
       "      <th>Draw</th>\n",
       "      <td>140</td>\n",
       "      <td>0</td>\n",
       "      <td>0</td>\n",
       "    </tr>\n",
       "    <tr>\n",
       "      <th>X`s player</th>\n",
       "      <td>0</td>\n",
       "      <td>454</td>\n",
       "      <td>57</td>\n",
       "    </tr>\n",
       "    <tr>\n",
       "      <th>O`s player</th>\n",
       "      <td>0</td>\n",
       "      <td>340</td>\n",
       "      <td>9</td>\n",
       "    </tr>\n",
       "  </tbody>\n",
       "</table>\n",
       "</div>"
      ],
      "text/plain": [
       "            Draw  BFS-2 Player  RandomPlayer\n",
       "Draw         140             0             0\n",
       "X`s player     0           454            57\n",
       "O`s player     0           340             9"
      ]
     },
     "execution_count": 11,
     "metadata": {},
     "output_type": "execute_result"
    }
   ],
   "source": [
    "n_plays = 1000\n",
    "manager = GameManager(TicTacToe(), BFSPlayer(2), RandomPlayer(), n_plays=n_plays, shuffling='circular')\n",
    "results = manager.run(verbose=True)\n",
    "results[\"winners matrix\"]"
   ]
  },
  {
   "cell_type": "code",
   "execution_count": 12,
   "id": "46ea534f",
   "metadata": {},
   "outputs": [
    {
     "data": {
      "application/vnd.jupyter.widget-view+json": {
       "model_id": "65d6e150a4854be7b1a0ced75a7f6a81",
       "version_major": 2,
       "version_minor": 0
      },
      "text/plain": [
       "  0%|          | 0/1000 [00:00<?, ?it/s]"
      ]
     },
     "metadata": {},
     "output_type": "display_data"
    },
    {
     "data": {
      "text/html": [
       "<div>\n",
       "<style scoped>\n",
       "    .dataframe tbody tr th:only-of-type {\n",
       "        vertical-align: middle;\n",
       "    }\n",
       "\n",
       "    .dataframe tbody tr th {\n",
       "        vertical-align: top;\n",
       "    }\n",
       "\n",
       "    .dataframe thead th {\n",
       "        text-align: right;\n",
       "    }\n",
       "</style>\n",
       "<table border=\"1\" class=\"dataframe\">\n",
       "  <thead>\n",
       "    <tr style=\"text-align: right;\">\n",
       "      <th></th>\n",
       "      <th>Draw</th>\n",
       "      <th>BFS-1 Player</th>\n",
       "      <th>BFS-1 Player</th>\n",
       "    </tr>\n",
       "  </thead>\n",
       "  <tbody>\n",
       "    <tr>\n",
       "      <th>Draw</th>\n",
       "      <td>40</td>\n",
       "      <td>0</td>\n",
       "      <td>0</td>\n",
       "    </tr>\n",
       "    <tr>\n",
       "      <th>X`s player</th>\n",
       "      <td>0</td>\n",
       "      <td>345</td>\n",
       "      <td>348</td>\n",
       "    </tr>\n",
       "    <tr>\n",
       "      <th>O`s player</th>\n",
       "      <td>0</td>\n",
       "      <td>132</td>\n",
       "      <td>135</td>\n",
       "    </tr>\n",
       "  </tbody>\n",
       "</table>\n",
       "</div>"
      ],
      "text/plain": [
       "            Draw  BFS-1 Player  BFS-1 Player\n",
       "Draw          40             0             0\n",
       "X`s player     0           345           348\n",
       "O`s player     0           132           135"
      ]
     },
     "execution_count": 12,
     "metadata": {},
     "output_type": "execute_result"
    }
   ],
   "source": [
    "n_plays = 1000\n",
    "manager = GameManager(TicTacToe(), BFSPlayer(1), BFSPlayer(1), n_plays=n_plays, shuffling='circular')\n",
    "results = manager.run(verbose=True)\n",
    "results[\"winners matrix\"]"
   ]
  },
  {
   "cell_type": "code",
   "execution_count": 13,
   "id": "7d59442a",
   "metadata": {},
   "outputs": [
    {
     "data": {
      "application/vnd.jupyter.widget-view+json": {
       "model_id": "4d34832184ed40ea805a29cadb18a766",
       "version_major": 2,
       "version_minor": 0
      },
      "text/plain": [
       "  0%|          | 0/1000 [00:00<?, ?it/s]"
      ]
     },
     "metadata": {},
     "output_type": "display_data"
    },
    {
     "data": {
      "text/html": [
       "<div>\n",
       "<style scoped>\n",
       "    .dataframe tbody tr th:only-of-type {\n",
       "        vertical-align: middle;\n",
       "    }\n",
       "\n",
       "    .dataframe tbody tr th {\n",
       "        vertical-align: top;\n",
       "    }\n",
       "\n",
       "    .dataframe thead th {\n",
       "        text-align: right;\n",
       "    }\n",
       "</style>\n",
       "<table border=\"1\" class=\"dataframe\">\n",
       "  <thead>\n",
       "    <tr style=\"text-align: right;\">\n",
       "      <th></th>\n",
       "      <th>Draw</th>\n",
       "      <th>BFS-2 Player</th>\n",
       "      <th>BFS-1 Player</th>\n",
       "    </tr>\n",
       "  </thead>\n",
       "  <tbody>\n",
       "    <tr>\n",
       "      <th>Draw</th>\n",
       "      <td>139</td>\n",
       "      <td>0</td>\n",
       "      <td>0</td>\n",
       "    </tr>\n",
       "    <tr>\n",
       "      <th>X`s player</th>\n",
       "      <td>0</td>\n",
       "      <td>443</td>\n",
       "      <td>67</td>\n",
       "    </tr>\n",
       "    <tr>\n",
       "      <th>O`s player</th>\n",
       "      <td>0</td>\n",
       "      <td>333</td>\n",
       "      <td>18</td>\n",
       "    </tr>\n",
       "  </tbody>\n",
       "</table>\n",
       "</div>"
      ],
      "text/plain": [
       "            Draw  BFS-2 Player  BFS-1 Player\n",
       "Draw         139             0             0\n",
       "X`s player     0           443            67\n",
       "O`s player     0           333            18"
      ]
     },
     "execution_count": 13,
     "metadata": {},
     "output_type": "execute_result"
    }
   ],
   "source": [
    "n_plays = 1000\n",
    "manager = GameManager(TicTacToe(), BFSPlayer(2), BFSPlayer(1), n_plays=n_plays, shuffling='circular')\n",
    "results = manager.run(verbose=True)\n",
    "results[\"winners matrix\"]"
   ]
  },
  {
   "cell_type": "code",
   "execution_count": 14,
   "id": "b74efbb4",
   "metadata": {},
   "outputs": [
    {
     "data": {
      "application/vnd.jupyter.widget-view+json": {
       "model_id": "25c8f952a4e946829e35fdf90f6c24be",
       "version_major": 2,
       "version_minor": 0
      },
      "text/plain": [
       "  0%|          | 0/1000 [00:00<?, ?it/s]"
      ]
     },
     "metadata": {},
     "output_type": "display_data"
    },
    {
     "data": {
      "text/html": [
       "<div>\n",
       "<style scoped>\n",
       "    .dataframe tbody tr th:only-of-type {\n",
       "        vertical-align: middle;\n",
       "    }\n",
       "\n",
       "    .dataframe tbody tr th {\n",
       "        vertical-align: top;\n",
       "    }\n",
       "\n",
       "    .dataframe thead th {\n",
       "        text-align: right;\n",
       "    }\n",
       "</style>\n",
       "<table border=\"1\" class=\"dataframe\">\n",
       "  <thead>\n",
       "    <tr style=\"text-align: right;\">\n",
       "      <th></th>\n",
       "      <th>Draw</th>\n",
       "      <th>BFS-2 Player</th>\n",
       "      <th>BFS-2 Player</th>\n",
       "    </tr>\n",
       "  </thead>\n",
       "  <tbody>\n",
       "    <tr>\n",
       "      <th>Draw</th>\n",
       "      <td>524</td>\n",
       "      <td>0</td>\n",
       "      <td>0</td>\n",
       "    </tr>\n",
       "    <tr>\n",
       "      <th>X`s player</th>\n",
       "      <td>0</td>\n",
       "      <td>151</td>\n",
       "      <td>153</td>\n",
       "    </tr>\n",
       "    <tr>\n",
       "      <th>O`s player</th>\n",
       "      <td>0</td>\n",
       "      <td>83</td>\n",
       "      <td>89</td>\n",
       "    </tr>\n",
       "  </tbody>\n",
       "</table>\n",
       "</div>"
      ],
      "text/plain": [
       "            Draw  BFS-2 Player  BFS-2 Player\n",
       "Draw         524             0             0\n",
       "X`s player     0           151           153\n",
       "O`s player     0            83            89"
      ]
     },
     "execution_count": 14,
     "metadata": {},
     "output_type": "execute_result"
    }
   ],
   "source": [
    "n_plays = 1000\n",
    "manager = GameManager(TicTacToe(), BFSPlayer(2), BFSPlayer(2), n_plays=n_plays, shuffling='circular')\n",
    "results = manager.run(verbose=True)\n",
    "results[\"winners matrix\"]"
   ]
  },
  {
   "cell_type": "code",
   "execution_count": 15,
   "id": "329cca43",
   "metadata": {},
   "outputs": [
    {
     "data": {
      "application/vnd.jupyter.widget-view+json": {
       "model_id": "ddda460ba8da419d89f0c113d5517bfc",
       "version_major": 2,
       "version_minor": 0
      },
      "text/plain": [
       "  0%|          | 0/1000 [00:00<?, ?it/s]"
      ]
     },
     "metadata": {},
     "output_type": "display_data"
    },
    {
     "data": {
      "text/html": [
       "<div>\n",
       "<style scoped>\n",
       "    .dataframe tbody tr th:only-of-type {\n",
       "        vertical-align: middle;\n",
       "    }\n",
       "\n",
       "    .dataframe tbody tr th {\n",
       "        vertical-align: top;\n",
       "    }\n",
       "\n",
       "    .dataframe thead th {\n",
       "        text-align: right;\n",
       "    }\n",
       "</style>\n",
       "<table border=\"1\" class=\"dataframe\">\n",
       "  <thead>\n",
       "    <tr style=\"text-align: right;\">\n",
       "      <th></th>\n",
       "      <th>Draw</th>\n",
       "      <th>BFS-3 Player</th>\n",
       "      <th>RandomPlayer</th>\n",
       "    </tr>\n",
       "  </thead>\n",
       "  <tbody>\n",
       "    <tr>\n",
       "      <th>Draw</th>\n",
       "      <td>124</td>\n",
       "      <td>0</td>\n",
       "      <td>0</td>\n",
       "    </tr>\n",
       "    <tr>\n",
       "      <th>X`s player</th>\n",
       "      <td>0</td>\n",
       "      <td>468</td>\n",
       "      <td>47</td>\n",
       "    </tr>\n",
       "    <tr>\n",
       "      <th>O`s player</th>\n",
       "      <td>0</td>\n",
       "      <td>358</td>\n",
       "      <td>3</td>\n",
       "    </tr>\n",
       "  </tbody>\n",
       "</table>\n",
       "</div>"
      ],
      "text/plain": [
       "            Draw  BFS-3 Player  RandomPlayer\n",
       "Draw         124             0             0\n",
       "X`s player     0           468            47\n",
       "O`s player     0           358             3"
      ]
     },
     "execution_count": 15,
     "metadata": {},
     "output_type": "execute_result"
    }
   ],
   "source": [
    "n_plays = 1000\n",
    "manager = GameManager(TicTacToe(), BFSPlayer(3), RandomPlayer(), n_plays=n_plays, shuffling='circular')\n",
    "results = manager.run(verbose=True)\n",
    "results[\"winners matrix\"]"
   ]
  },
  {
   "cell_type": "code",
   "execution_count": 17,
   "id": "905a20df",
   "metadata": {},
   "outputs": [
    {
     "name": "stdout",
     "output_type": "stream",
     "text": [
      "You win!\n",
      "Final state:\n",
      "x|_|_\n",
      "o|x|_\n",
      "o|_|x\n"
     ]
    },
    {
     "data": {
      "text/plain": [
       "np.int64(1)"
      ]
     },
     "execution_count": 17,
     "metadata": {},
     "output_type": "execute_result"
    }
   ],
   "source": [
    "manager = GameManager(TicTacToe(), io_player, BFSPlayer(5))\n",
    "manager.run_single_game()"
   ]
  },
  {
   "cell_type": "code",
   "execution_count": 18,
   "id": "d9b32fc7",
   "metadata": {},
   "outputs": [
    {
     "name": "stdout",
     "output_type": "stream",
     "text": [
      "It`s a draw.\n",
      "Final state:\n",
      "x|o|x\n",
      "o|o|x\n",
      "x|x|o\n"
     ]
    }
   ],
   "source": [
    "manager = GameManager(TicTacToe(), BFSPlayer(5), io_player)\n",
    "manager.run_single_game()"
   ]
  },
  {
   "cell_type": "code",
   "execution_count": 19,
   "id": "2fafca35",
   "metadata": {},
   "outputs": [],
   "source": [
    "from agent.player import DFSPlayer\n",
    "\n",
    "ts = DFSPlayer(verbose=True)"
   ]
  },
  {
   "cell_type": "code",
   "execution_count": 20,
   "id": "a838501f",
   "metadata": {},
   "outputs": [
    {
     "name": "stdout",
     "output_type": "stream",
     "text": [
      "Found 10 states.\n",
      "Found 100 states.\n",
      "Found 1000 states.\n",
      "Found 5478 states in total.\n"
     ]
    }
   ],
   "source": [
    "tic_tac_toe = TicTacToe()\n",
    "ts.fit(tic_tac_toe)"
   ]
  },
  {
   "cell_type": "code",
   "execution_count": 21,
   "id": "12f2f9a7",
   "metadata": {},
   "outputs": [
    {
     "name": "stdout",
     "output_type": "stream",
     "text": [
      "It`s a draw.\n",
      "Final state:\n",
      "x|o|x\n",
      "x|x|o\n",
      "o|x|o\n"
     ]
    }
   ],
   "source": [
    "manager = GameManager(TicTacToe(), io_player, ts)\n",
    "manager.run_single_game()"
   ]
  },
  {
   "cell_type": "code",
   "execution_count": 22,
   "id": "bdc42c16",
   "metadata": {},
   "outputs": [
    {
     "name": "stdout",
     "output_type": "stream",
     "text": [
      "It`s a draw.\n",
      "Final state:\n",
      "x|o|x\n",
      "o|o|x\n",
      "x|x|o\n"
     ]
    }
   ],
   "source": [
    "manager = GameManager(TicTacToe(), ts, io_player)\n",
    "manager.run_single_game()"
   ]
  },
  {
   "cell_type": "code",
   "execution_count": 23,
   "id": "cf49f901",
   "metadata": {},
   "outputs": [
    {
     "data": {
      "application/vnd.jupyter.widget-view+json": {
       "model_id": "eae4a39660b841a6bd5bfa6dea140209",
       "version_major": 2,
       "version_minor": 0
      },
      "text/plain": [
       "  0%|          | 0/100 [00:00<?, ?it/s]"
      ]
     },
     "metadata": {},
     "output_type": "display_data"
    },
    {
     "data": {
      "text/html": [
       "<div>\n",
       "<style scoped>\n",
       "    .dataframe tbody tr th:only-of-type {\n",
       "        vertical-align: middle;\n",
       "    }\n",
       "\n",
       "    .dataframe tbody tr th {\n",
       "        vertical-align: top;\n",
       "    }\n",
       "\n",
       "    .dataframe thead th {\n",
       "        text-align: right;\n",
       "    }\n",
       "</style>\n",
       "<table border=\"1\" class=\"dataframe\">\n",
       "  <thead>\n",
       "    <tr style=\"text-align: right;\">\n",
       "      <th></th>\n",
       "      <th>Draw</th>\n",
       "      <th>DFSPlayer</th>\n",
       "      <th>RandomPlayer</th>\n",
       "    </tr>\n",
       "  </thead>\n",
       "  <tbody>\n",
       "    <tr>\n",
       "      <th>Draw</th>\n",
       "      <td>10</td>\n",
       "      <td>0</td>\n",
       "      <td>0</td>\n",
       "    </tr>\n",
       "    <tr>\n",
       "      <th>X`s player</th>\n",
       "      <td>0</td>\n",
       "      <td>49</td>\n",
       "      <td>0</td>\n",
       "    </tr>\n",
       "    <tr>\n",
       "      <th>O`s player</th>\n",
       "      <td>0</td>\n",
       "      <td>41</td>\n",
       "      <td>0</td>\n",
       "    </tr>\n",
       "  </tbody>\n",
       "</table>\n",
       "</div>"
      ],
      "text/plain": [
       "            Draw  DFSPlayer  RandomPlayer\n",
       "Draw          10          0             0\n",
       "X`s player     0         49             0\n",
       "O`s player     0         41             0"
      ]
     },
     "execution_count": 23,
     "metadata": {},
     "output_type": "execute_result"
    }
   ],
   "source": [
    "manager = GameManager(TicTacToe(), ts, RandomPlayer(), n_plays=100, shuffling='circular')\n",
    "results = manager.run(verbose=True)\n",
    "results[\"winners matrix\"]"
   ]
  },
  {
   "cell_type": "code",
   "execution_count": 24,
   "id": "e225d101",
   "metadata": {},
   "outputs": [
    {
     "data": {
      "application/vnd.jupyter.widget-view+json": {
       "model_id": "491689c86a4f42658d65d98de17a5fd4",
       "version_major": 2,
       "version_minor": 0
      },
      "text/plain": [
       "  0%|          | 0/100 [00:00<?, ?it/s]"
      ]
     },
     "metadata": {},
     "output_type": "display_data"
    },
    {
     "data": {
      "text/html": [
       "<div>\n",
       "<style scoped>\n",
       "    .dataframe tbody tr th:only-of-type {\n",
       "        vertical-align: middle;\n",
       "    }\n",
       "\n",
       "    .dataframe tbody tr th {\n",
       "        vertical-align: top;\n",
       "    }\n",
       "\n",
       "    .dataframe thead th {\n",
       "        text-align: right;\n",
       "    }\n",
       "</style>\n",
       "<table border=\"1\" class=\"dataframe\">\n",
       "  <thead>\n",
       "    <tr style=\"text-align: right;\">\n",
       "      <th></th>\n",
       "      <th>Draw</th>\n",
       "      <th>DFSPlayer</th>\n",
       "      <th>BFS-1 Player</th>\n",
       "    </tr>\n",
       "  </thead>\n",
       "  <tbody>\n",
       "    <tr>\n",
       "      <th>Draw</th>\n",
       "      <td>11</td>\n",
       "      <td>0</td>\n",
       "      <td>0</td>\n",
       "    </tr>\n",
       "    <tr>\n",
       "      <th>X`s player</th>\n",
       "      <td>0</td>\n",
       "      <td>50</td>\n",
       "      <td>0</td>\n",
       "    </tr>\n",
       "    <tr>\n",
       "      <th>O`s player</th>\n",
       "      <td>0</td>\n",
       "      <td>39</td>\n",
       "      <td>0</td>\n",
       "    </tr>\n",
       "  </tbody>\n",
       "</table>\n",
       "</div>"
      ],
      "text/plain": [
       "            Draw  DFSPlayer  BFS-1 Player\n",
       "Draw          11          0             0\n",
       "X`s player     0         50             0\n",
       "O`s player     0         39             0"
      ]
     },
     "execution_count": 24,
     "metadata": {},
     "output_type": "execute_result"
    }
   ],
   "source": [
    "manager = GameManager(TicTacToe(), ts, BFSPlayer(1), n_plays=100, shuffling='circular')\n",
    "results = manager.run(verbose=True)\n",
    "results[\"winners matrix\"]"
   ]
  },
  {
   "cell_type": "code",
   "execution_count": 25,
   "id": "89e615f2",
   "metadata": {},
   "outputs": [
    {
     "data": {
      "application/vnd.jupyter.widget-view+json": {
       "model_id": "6e6496888fa842b1aa90bce1bfb964b3",
       "version_major": 2,
       "version_minor": 0
      },
      "text/plain": [
       "  0%|          | 0/100 [00:00<?, ?it/s]"
      ]
     },
     "metadata": {},
     "output_type": "display_data"
    },
    {
     "data": {
      "text/html": [
       "<div>\n",
       "<style scoped>\n",
       "    .dataframe tbody tr th:only-of-type {\n",
       "        vertical-align: middle;\n",
       "    }\n",
       "\n",
       "    .dataframe tbody tr th {\n",
       "        vertical-align: top;\n",
       "    }\n",
       "\n",
       "    .dataframe thead th {\n",
       "        text-align: right;\n",
       "    }\n",
       "</style>\n",
       "<table border=\"1\" class=\"dataframe\">\n",
       "  <thead>\n",
       "    <tr style=\"text-align: right;\">\n",
       "      <th></th>\n",
       "      <th>Draw</th>\n",
       "      <th>DFSPlayer</th>\n",
       "      <th>BFS-2 Player</th>\n",
       "    </tr>\n",
       "  </thead>\n",
       "  <tbody>\n",
       "    <tr>\n",
       "      <th>Draw</th>\n",
       "      <td>57</td>\n",
       "      <td>0</td>\n",
       "      <td>0</td>\n",
       "    </tr>\n",
       "    <tr>\n",
       "      <th>X`s player</th>\n",
       "      <td>0</td>\n",
       "      <td>36</td>\n",
       "      <td>0</td>\n",
       "    </tr>\n",
       "    <tr>\n",
       "      <th>O`s player</th>\n",
       "      <td>0</td>\n",
       "      <td>7</td>\n",
       "      <td>0</td>\n",
       "    </tr>\n",
       "  </tbody>\n",
       "</table>\n",
       "</div>"
      ],
      "text/plain": [
       "            Draw  DFSPlayer  BFS-2 Player\n",
       "Draw          57          0             0\n",
       "X`s player     0         36             0\n",
       "O`s player     0          7             0"
      ]
     },
     "execution_count": 25,
     "metadata": {},
     "output_type": "execute_result"
    }
   ],
   "source": [
    "manager = GameManager(TicTacToe(), ts, BFSPlayer(2), n_plays=100, shuffling='circular')\n",
    "results = manager.run(verbose=True)\n",
    "results[\"winners matrix\"]"
   ]
  },
  {
   "cell_type": "code",
   "execution_count": 26,
   "id": "faf14aaa",
   "metadata": {},
   "outputs": [
    {
     "data": {
      "application/vnd.jupyter.widget-view+json": {
       "model_id": "9aa1a16be12a46fab425d1c7f8cc0e61",
       "version_major": 2,
       "version_minor": 0
      },
      "text/plain": [
       "  0%|          | 0/100 [00:00<?, ?it/s]"
      ]
     },
     "metadata": {},
     "output_type": "display_data"
    },
    {
     "data": {
      "text/html": [
       "<div>\n",
       "<style scoped>\n",
       "    .dataframe tbody tr th:only-of-type {\n",
       "        vertical-align: middle;\n",
       "    }\n",
       "\n",
       "    .dataframe tbody tr th {\n",
       "        vertical-align: top;\n",
       "    }\n",
       "\n",
       "    .dataframe thead th {\n",
       "        text-align: right;\n",
       "    }\n",
       "</style>\n",
       "<table border=\"1\" class=\"dataframe\">\n",
       "  <thead>\n",
       "    <tr style=\"text-align: right;\">\n",
       "      <th></th>\n",
       "      <th>Draw</th>\n",
       "      <th>DFSPlayer</th>\n",
       "      <th>BFS-3 Player</th>\n",
       "    </tr>\n",
       "  </thead>\n",
       "  <tbody>\n",
       "    <tr>\n",
       "      <th>Draw</th>\n",
       "      <td>51</td>\n",
       "      <td>0</td>\n",
       "      <td>0</td>\n",
       "    </tr>\n",
       "    <tr>\n",
       "      <th>X`s player</th>\n",
       "      <td>0</td>\n",
       "      <td>41</td>\n",
       "      <td>0</td>\n",
       "    </tr>\n",
       "    <tr>\n",
       "      <th>O`s player</th>\n",
       "      <td>0</td>\n",
       "      <td>8</td>\n",
       "      <td>0</td>\n",
       "    </tr>\n",
       "  </tbody>\n",
       "</table>\n",
       "</div>"
      ],
      "text/plain": [
       "            Draw  DFSPlayer  BFS-3 Player\n",
       "Draw          51          0             0\n",
       "X`s player     0         41             0\n",
       "O`s player     0          8             0"
      ]
     },
     "execution_count": 26,
     "metadata": {},
     "output_type": "execute_result"
    }
   ],
   "source": [
    "manager = GameManager(TicTacToe(), ts, BFSPlayer(3), n_plays=100, shuffling='circular')\n",
    "results = manager.run(verbose=True)\n",
    "results[\"winners matrix\"]"
   ]
  },
  {
   "cell_type": "code",
   "execution_count": 27,
   "id": "66692505",
   "metadata": {},
   "outputs": [
    {
     "data": {
      "application/vnd.jupyter.widget-view+json": {
       "model_id": "d16480a02e9a4918a5b9ae9decc9df07",
       "version_major": 2,
       "version_minor": 0
      },
      "text/plain": [
       "  0%|          | 0/100 [00:00<?, ?it/s]"
      ]
     },
     "metadata": {},
     "output_type": "display_data"
    },
    {
     "data": {
      "text/html": [
       "<div>\n",
       "<style scoped>\n",
       "    .dataframe tbody tr th:only-of-type {\n",
       "        vertical-align: middle;\n",
       "    }\n",
       "\n",
       "    .dataframe tbody tr th {\n",
       "        vertical-align: top;\n",
       "    }\n",
       "\n",
       "    .dataframe thead th {\n",
       "        text-align: right;\n",
       "    }\n",
       "</style>\n",
       "<table border=\"1\" class=\"dataframe\">\n",
       "  <thead>\n",
       "    <tr style=\"text-align: right;\">\n",
       "      <th></th>\n",
       "      <th>Draw</th>\n",
       "      <th>DFSPlayer</th>\n",
       "      <th>DFSPlayer</th>\n",
       "    </tr>\n",
       "  </thead>\n",
       "  <tbody>\n",
       "    <tr>\n",
       "      <th>Draw</th>\n",
       "      <td>100</td>\n",
       "      <td>0</td>\n",
       "      <td>0</td>\n",
       "    </tr>\n",
       "    <tr>\n",
       "      <th>X`s player</th>\n",
       "      <td>0</td>\n",
       "      <td>0</td>\n",
       "      <td>0</td>\n",
       "    </tr>\n",
       "    <tr>\n",
       "      <th>O`s player</th>\n",
       "      <td>0</td>\n",
       "      <td>0</td>\n",
       "      <td>0</td>\n",
       "    </tr>\n",
       "  </tbody>\n",
       "</table>\n",
       "</div>"
      ],
      "text/plain": [
       "            Draw  DFSPlayer  DFSPlayer\n",
       "Draw         100          0          0\n",
       "X`s player     0          0          0\n",
       "O`s player     0          0          0"
      ]
     },
     "execution_count": 27,
     "metadata": {},
     "output_type": "execute_result"
    }
   ],
   "source": [
    "manager = GameManager(TicTacToe(), ts, ts, n_plays=100, shuffling='circular')\n",
    "results = manager.run(verbose=True)\n",
    "results[\"winners matrix\"]"
   ]
  },
  {
   "cell_type": "markdown",
   "id": "421361b9",
   "metadata": {},
   "source": [
    "## Connect Four"
   ]
  },
  {
   "cell_type": "code",
   "execution_count": 28,
   "id": "71965b66",
   "metadata": {},
   "outputs": [
    {
     "name": "stdout",
     "output_type": "stream",
     "text": [
      " 0 1 2 3 4 5 6 \n",
      " v v v v v v v \n",
      "| | | | | | | |\n",
      "| | | | | | | |\n",
      "| | | | | | | |\n",
      "| | | | | | | |\n",
      "| | | | | | | |\n",
      "|_|_|_|_|_|_|_|\n",
      "\n"
     ]
    }
   ],
   "source": [
    "from game import ConnectFour\n",
    "\n",
    "connect_four = ConnectFour()\n",
    "print(connect_four.start())"
   ]
  },
  {
   "cell_type": "code",
   "execution_count": 29,
   "id": "165f0582",
   "metadata": {},
   "outputs": [
    {
     "data": {
      "text/plain": [
       "[0, 1, 2, 3, 4, 5, 6]"
      ]
     },
     "execution_count": 29,
     "metadata": {},
     "output_type": "execute_result"
    }
   ],
   "source": [
    "connect_four.start().actions"
   ]
  },
  {
   "cell_type": "code",
   "execution_count": 32,
   "id": "d520b567",
   "metadata": {},
   "outputs": [
    {
     "name": "stdout",
     "output_type": "stream",
     "text": [
      "You win!\n",
      "Final state:\n",
      " 0 1 2 3 4 5 6 \n",
      " v v v v v v v \n",
      "| | | | | | | |\n",
      "| | | |o|o| | |\n",
      "| | | |o|o| | |\n",
      "| |x| |x|x| | |\n",
      "| |x|x|x|x| | |\n",
      "|o|o|x|x|o|o|_|\n",
      "\n"
     ]
    },
    {
     "data": {
      "text/plain": [
       "np.int64(1)"
      ]
     },
     "execution_count": 32,
     "metadata": {},
     "output_type": "execute_result"
    }
   ],
   "source": [
    "manager = GameManager(ConnectFour(), IOPlayer(from_str=int), BFSPlayer(4))\n",
    "manager.run_single_game()"
   ]
  },
  {
   "cell_type": "code",
   "execution_count": 35,
   "id": "de6ee4b9",
   "metadata": {},
   "outputs": [
    {
     "name": "stdout",
     "output_type": "stream",
     "text": [
      "You win!\n",
      "Final state:\n",
      " 0 1 2 3 4 5 6 \n",
      " v v v v v v v \n",
      "| | | |x| | | |\n",
      "| |x| |o| | | |\n",
      "| |x| |x| | | |\n",
      "| |o| |o| |x| |\n",
      "|o|x|o|o|o|o|x|\n",
      "|x|x|o|o|x|o|x|\n",
      "\n"
     ]
    },
    {
     "data": {
      "text/plain": [
       "np.int64(2)"
      ]
     },
     "execution_count": 35,
     "metadata": {},
     "output_type": "execute_result"
    }
   ],
   "source": [
    "manager = GameManager(ConnectFour(), BFSPlayer(4), IOPlayer(from_str=int))\n",
    "manager.run_single_game()"
   ]
  },
  {
   "cell_type": "code",
   "execution_count": 36,
   "id": "e4f4c95c",
   "metadata": {},
   "outputs": [
    {
     "data": {
      "application/vnd.jupyter.widget-view+json": {
       "model_id": "95d89c07a18f41e592e70588987d5a3a",
       "version_major": 2,
       "version_minor": 0
      },
      "text/plain": [
       "  0%|          | 0/1000 [00:00<?, ?it/s]"
      ]
     },
     "metadata": {},
     "output_type": "display_data"
    },
    {
     "data": {
      "text/html": [
       "<div>\n",
       "<style scoped>\n",
       "    .dataframe tbody tr th:only-of-type {\n",
       "        vertical-align: middle;\n",
       "    }\n",
       "\n",
       "    .dataframe tbody tr th {\n",
       "        vertical-align: top;\n",
       "    }\n",
       "\n",
       "    .dataframe thead th {\n",
       "        text-align: right;\n",
       "    }\n",
       "</style>\n",
       "<table border=\"1\" class=\"dataframe\">\n",
       "  <thead>\n",
       "    <tr style=\"text-align: right;\">\n",
       "      <th></th>\n",
       "      <th>Draw</th>\n",
       "      <th>RandomPlayer</th>\n",
       "      <th>RandomPlayer</th>\n",
       "    </tr>\n",
       "  </thead>\n",
       "  <tbody>\n",
       "    <tr>\n",
       "      <th>Draw</th>\n",
       "      <td>4</td>\n",
       "      <td>0</td>\n",
       "      <td>0</td>\n",
       "    </tr>\n",
       "    <tr>\n",
       "      <th>X`s player</th>\n",
       "      <td>0</td>\n",
       "      <td>553</td>\n",
       "      <td>0</td>\n",
       "    </tr>\n",
       "    <tr>\n",
       "      <th>O`s player</th>\n",
       "      <td>0</td>\n",
       "      <td>0</td>\n",
       "      <td>443</td>\n",
       "    </tr>\n",
       "  </tbody>\n",
       "</table>\n",
       "</div>"
      ],
      "text/plain": [
       "            Draw  RandomPlayer  RandomPlayer\n",
       "Draw           4             0             0\n",
       "X`s player     0           553             0\n",
       "O`s player     0             0           443"
      ]
     },
     "execution_count": 36,
     "metadata": {},
     "output_type": "execute_result"
    }
   ],
   "source": [
    "manager = GameManager(ConnectFour(), RandomPlayer(), RandomPlayer(), n_plays=1000)\n",
    "results = manager.run(verbose=True)\n",
    "results[\"winners matrix\"]"
   ]
  },
  {
   "cell_type": "code",
   "execution_count": 37,
   "id": "27c1be4c",
   "metadata": {},
   "outputs": [
    {
     "data": {
      "application/vnd.jupyter.widget-view+json": {
       "model_id": "a7153e29c47541419c5e8c32114ff9b8",
       "version_major": 2,
       "version_minor": 0
      },
      "text/plain": [
       "  0%|          | 0/500 [00:00<?, ?it/s]"
      ]
     },
     "metadata": {},
     "output_type": "display_data"
    },
    {
     "data": {
      "text/html": [
       "<div>\n",
       "<style scoped>\n",
       "    .dataframe tbody tr th:only-of-type {\n",
       "        vertical-align: middle;\n",
       "    }\n",
       "\n",
       "    .dataframe tbody tr th {\n",
       "        vertical-align: top;\n",
       "    }\n",
       "\n",
       "    .dataframe thead th {\n",
       "        text-align: right;\n",
       "    }\n",
       "</style>\n",
       "<table border=\"1\" class=\"dataframe\">\n",
       "  <thead>\n",
       "    <tr style=\"text-align: right;\">\n",
       "      <th></th>\n",
       "      <th>Draw</th>\n",
       "      <th>BFS-2 Player</th>\n",
       "      <th>RandomPlayer</th>\n",
       "    </tr>\n",
       "  </thead>\n",
       "  <tbody>\n",
       "    <tr>\n",
       "      <th>Draw</th>\n",
       "      <td>0</td>\n",
       "      <td>0</td>\n",
       "      <td>0</td>\n",
       "    </tr>\n",
       "    <tr>\n",
       "      <th>X`s player</th>\n",
       "      <td>0</td>\n",
       "      <td>246</td>\n",
       "      <td>14</td>\n",
       "    </tr>\n",
       "    <tr>\n",
       "      <th>O`s player</th>\n",
       "      <td>0</td>\n",
       "      <td>236</td>\n",
       "      <td>4</td>\n",
       "    </tr>\n",
       "  </tbody>\n",
       "</table>\n",
       "</div>"
      ],
      "text/plain": [
       "            Draw  BFS-2 Player  RandomPlayer\n",
       "Draw           0             0             0\n",
       "X`s player     0           246            14\n",
       "O`s player     0           236             4"
      ]
     },
     "execution_count": 37,
     "metadata": {},
     "output_type": "execute_result"
    }
   ],
   "source": [
    "manager = GameManager(ConnectFour(), BFSPlayer(2), RandomPlayer(), n_plays=500, shuffling='circular')\n",
    "results = manager.run(verbose=True)\n",
    "results[\"winners matrix\"]"
   ]
  },
  {
   "cell_type": "code",
   "execution_count": 38,
   "id": "d9b104aa",
   "metadata": {},
   "outputs": [
    {
     "data": {
      "application/vnd.jupyter.widget-view+json": {
       "model_id": "881865fb365144478f08e403b2bf5dbb",
       "version_major": 2,
       "version_minor": 0
      },
      "text/plain": [
       "  0%|          | 0/100 [00:00<?, ?it/s]"
      ]
     },
     "metadata": {},
     "output_type": "display_data"
    },
    {
     "data": {
      "text/html": [
       "<div>\n",
       "<style scoped>\n",
       "    .dataframe tbody tr th:only-of-type {\n",
       "        vertical-align: middle;\n",
       "    }\n",
       "\n",
       "    .dataframe tbody tr th {\n",
       "        vertical-align: top;\n",
       "    }\n",
       "\n",
       "    .dataframe thead th {\n",
       "        text-align: right;\n",
       "    }\n",
       "</style>\n",
       "<table border=\"1\" class=\"dataframe\">\n",
       "  <thead>\n",
       "    <tr style=\"text-align: right;\">\n",
       "      <th></th>\n",
       "      <th>Draw</th>\n",
       "      <th>BFS-2 Player</th>\n",
       "      <th>BFS-2 Player</th>\n",
       "    </tr>\n",
       "  </thead>\n",
       "  <tbody>\n",
       "    <tr>\n",
       "      <th>Draw</th>\n",
       "      <td>17</td>\n",
       "      <td>0</td>\n",
       "      <td>0</td>\n",
       "    </tr>\n",
       "    <tr>\n",
       "      <th>X`s player</th>\n",
       "      <td>0</td>\n",
       "      <td>43</td>\n",
       "      <td>0</td>\n",
       "    </tr>\n",
       "    <tr>\n",
       "      <th>O`s player</th>\n",
       "      <td>0</td>\n",
       "      <td>0</td>\n",
       "      <td>40</td>\n",
       "    </tr>\n",
       "  </tbody>\n",
       "</table>\n",
       "</div>"
      ],
      "text/plain": [
       "            Draw  BFS-2 Player  BFS-2 Player\n",
       "Draw          17             0             0\n",
       "X`s player     0            43             0\n",
       "O`s player     0             0            40"
      ]
     },
     "execution_count": 38,
     "metadata": {},
     "output_type": "execute_result"
    }
   ],
   "source": [
    "manager = GameManager(ConnectFour(), BFSPlayer(2), BFSPlayer(2), n_plays=100)\n",
    "results = manager.run(verbose=True)\n",
    "results[\"winners matrix\"]"
   ]
  },
  {
   "cell_type": "code",
   "execution_count": 39,
   "id": "538e0d6d",
   "metadata": {},
   "outputs": [
    {
     "data": {
      "application/vnd.jupyter.widget-view+json": {
       "model_id": "9f7829cf3f544baea6ced337123636f8",
       "version_major": 2,
       "version_minor": 0
      },
      "text/plain": [
       "  0%|          | 0/50 [00:00<?, ?it/s]"
      ]
     },
     "metadata": {},
     "output_type": "display_data"
    },
    {
     "data": {
      "text/html": [
       "<div>\n",
       "<style scoped>\n",
       "    .dataframe tbody tr th:only-of-type {\n",
       "        vertical-align: middle;\n",
       "    }\n",
       "\n",
       "    .dataframe tbody tr th {\n",
       "        vertical-align: top;\n",
       "    }\n",
       "\n",
       "    .dataframe thead th {\n",
       "        text-align: right;\n",
       "    }\n",
       "</style>\n",
       "<table border=\"1\" class=\"dataframe\">\n",
       "  <thead>\n",
       "    <tr style=\"text-align: right;\">\n",
       "      <th></th>\n",
       "      <th>Draw</th>\n",
       "      <th>BFS-3 Player</th>\n",
       "      <th>BFS-3 Player</th>\n",
       "    </tr>\n",
       "  </thead>\n",
       "  <tbody>\n",
       "    <tr>\n",
       "      <th>Draw</th>\n",
       "      <td>3</td>\n",
       "      <td>0</td>\n",
       "      <td>0</td>\n",
       "    </tr>\n",
       "    <tr>\n",
       "      <th>X`s player</th>\n",
       "      <td>0</td>\n",
       "      <td>23</td>\n",
       "      <td>0</td>\n",
       "    </tr>\n",
       "    <tr>\n",
       "      <th>O`s player</th>\n",
       "      <td>0</td>\n",
       "      <td>0</td>\n",
       "      <td>24</td>\n",
       "    </tr>\n",
       "  </tbody>\n",
       "</table>\n",
       "</div>"
      ],
      "text/plain": [
       "            Draw  BFS-3 Player  BFS-3 Player\n",
       "Draw           3             0             0\n",
       "X`s player     0            23             0\n",
       "O`s player     0             0            24"
      ]
     },
     "execution_count": 39,
     "metadata": {},
     "output_type": "execute_result"
    }
   ],
   "source": [
    "manager = GameManager(ConnectFour(), BFSPlayer(3), BFSPlayer(3), n_plays=50)\n",
    "results = manager.run(verbose=True)\n",
    "results[\"winners matrix\"]"
   ]
  },
  {
   "cell_type": "code",
   "execution_count": 40,
   "id": "0b52912c",
   "metadata": {},
   "outputs": [
    {
     "data": {
      "application/vnd.jupyter.widget-view+json": {
       "model_id": "ac3e5bbb3c6e4c9d86cf46de0fdd722f",
       "version_major": 2,
       "version_minor": 0
      },
      "text/plain": [
       "  0%|          | 0/10 [00:00<?, ?it/s]"
      ]
     },
     "metadata": {},
     "output_type": "display_data"
    },
    {
     "data": {
      "text/html": [
       "<div>\n",
       "<style scoped>\n",
       "    .dataframe tbody tr th:only-of-type {\n",
       "        vertical-align: middle;\n",
       "    }\n",
       "\n",
       "    .dataframe tbody tr th {\n",
       "        vertical-align: top;\n",
       "    }\n",
       "\n",
       "    .dataframe thead th {\n",
       "        text-align: right;\n",
       "    }\n",
       "</style>\n",
       "<table border=\"1\" class=\"dataframe\">\n",
       "  <thead>\n",
       "    <tr style=\"text-align: right;\">\n",
       "      <th></th>\n",
       "      <th>Draw</th>\n",
       "      <th>BFS-4 Player</th>\n",
       "      <th>BFS-4 Player</th>\n",
       "    </tr>\n",
       "  </thead>\n",
       "  <tbody>\n",
       "    <tr>\n",
       "      <th>Draw</th>\n",
       "      <td>2</td>\n",
       "      <td>0</td>\n",
       "      <td>0</td>\n",
       "    </tr>\n",
       "    <tr>\n",
       "      <th>X`s player</th>\n",
       "      <td>0</td>\n",
       "      <td>5</td>\n",
       "      <td>0</td>\n",
       "    </tr>\n",
       "    <tr>\n",
       "      <th>O`s player</th>\n",
       "      <td>0</td>\n",
       "      <td>0</td>\n",
       "      <td>3</td>\n",
       "    </tr>\n",
       "  </tbody>\n",
       "</table>\n",
       "</div>"
      ],
      "text/plain": [
       "            Draw  BFS-4 Player  BFS-4 Player\n",
       "Draw           2             0             0\n",
       "X`s player     0             5             0\n",
       "O`s player     0             0             3"
      ]
     },
     "execution_count": 40,
     "metadata": {},
     "output_type": "execute_result"
    }
   ],
   "source": [
    "manager = GameManager(ConnectFour(), BFSPlayer(4), BFSPlayer(4), n_plays=10)\n",
    "results = manager.run(verbose=True)\n",
    "results[\"winners matrix\"]"
   ]
  },
  {
   "cell_type": "code",
   "execution_count": null,
   "id": "a984f5f1",
   "metadata": {},
   "outputs": [],
   "source": []
  }
 ],
 "metadata": {
  "kernelspec": {
   "display_name": "Python 3 (ipykernel)",
   "language": "python",
   "name": "python3"
  },
  "language_info": {
   "codemirror_mode": {
    "name": "ipython",
    "version": 3
   },
   "file_extension": ".py",
   "mimetype": "text/x-python",
   "name": "python",
   "nbconvert_exporter": "python",
   "pygments_lexer": "ipython3",
   "version": "3.12.8"
  }
 },
 "nbformat": 4,
 "nbformat_minor": 5
}
